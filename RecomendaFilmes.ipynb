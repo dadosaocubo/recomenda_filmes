{
  "nbformat": 4,
  "nbformat_minor": 0,
  "metadata": {
    "colab": {
      "name": "Surprise.ipynb",
      "provenance": [],
      "collapsed_sections": []
    },
    "kernelspec": {
      "name": "python3",
      "display_name": "Python 3"
    }
  },
  "cells": [
    {
      "cell_type": "markdown",
      "metadata": {
        "id": "zUw7Nl6p4SWq"
      },
      "source": [
        "# Recomendação de Filmes"
      ]
    },
    {
      "cell_type": "markdown",
      "metadata": {
        "id": "ABu6sRBM4aie"
      },
      "source": [
        ""
      ]
    },
    {
      "cell_type": "markdown",
      "metadata": {
        "id": "MI2lb6-t4aqj"
      },
      "source": [
        "## 1. Importando as Bibliotecas"
      ]
    },
    {
      "cell_type": "code",
      "metadata": {
        "colab": {
          "base_uri": "https://localhost:8080/"
        },
        "id": "6f55aYyvSCzx",
        "outputId": "6f1c4cfb-f537-4543-e6a1-d5eee1e6ccdf"
      },
      "source": [
        "!pip install surprise"
      ],
      "execution_count": 152,
      "outputs": [
        {
          "output_type": "stream",
          "text": [
            "Requirement already satisfied: surprise in /usr/local/lib/python3.6/dist-packages (0.1)\n",
            "Requirement already satisfied: scikit-surprise in /usr/local/lib/python3.6/dist-packages (from surprise) (1.1.1)\n",
            "Requirement already satisfied: joblib>=0.11 in /usr/local/lib/python3.6/dist-packages (from scikit-surprise->surprise) (0.17.0)\n",
            "Requirement already satisfied: numpy>=1.11.2 in /usr/local/lib/python3.6/dist-packages (from scikit-surprise->surprise) (1.18.5)\n",
            "Requirement already satisfied: scipy>=1.0.0 in /usr/local/lib/python3.6/dist-packages (from scikit-surprise->surprise) (1.4.1)\n",
            "Requirement already satisfied: six>=1.10.0 in /usr/local/lib/python3.6/dist-packages (from scikit-surprise->surprise) (1.15.0)\n"
          ],
          "name": "stdout"
        }
      ]
    },
    {
      "cell_type": "code",
      "metadata": {
        "id": "85YmrqkLgGqR"
      },
      "source": [
        "import pandas as pd\n",
        "import numpy as np\n",
        "\n",
        "from surprise import Reader, Dataset\n",
        "from surprise.prediction_algorithms.knns import KNNBaseline\n",
        "from surprise.model_selection import train_test_split\n",
        "from surprise.prediction_algorithms.matrix_factorization import SVDpp\n",
        "from surprise.prediction_algorithms.slope_one import SlopeOne\n",
        "from surprise.prediction_algorithms.co_clustering import CoClustering\n",
        "from surprise import accuracy\n"
      ],
      "execution_count": 153,
      "outputs": []
    },
    {
      "cell_type": "markdown",
      "metadata": {
        "id": "IB_U66i44hJA"
      },
      "source": [
        "## 2. Carregando Dados"
      ]
    },
    {
      "cell_type": "code",
      "metadata": {
        "colab": {
          "base_uri": "https://localhost:8080/",
          "height": 110
        },
        "id": "eQyGl6ecSJ2f",
        "outputId": "9f2100cc-5191-44e9-b6be-1c32fab288d5"
      },
      "source": [
        "links = pd.read_csv('https://raw.githubusercontent.com/dadosaocubo/recomenda_filmes/main/data/links.csv')\r\n",
        "links.head(2)"
      ],
      "execution_count": 227,
      "outputs": [
        {
          "output_type": "execute_result",
          "data": {
            "text/html": [
              "<div>\n",
              "<style scoped>\n",
              "    .dataframe tbody tr th:only-of-type {\n",
              "        vertical-align: middle;\n",
              "    }\n",
              "\n",
              "    .dataframe tbody tr th {\n",
              "        vertical-align: top;\n",
              "    }\n",
              "\n",
              "    .dataframe thead th {\n",
              "        text-align: right;\n",
              "    }\n",
              "</style>\n",
              "<table border=\"1\" class=\"dataframe\">\n",
              "  <thead>\n",
              "    <tr style=\"text-align: right;\">\n",
              "      <th></th>\n",
              "      <th>movieId</th>\n",
              "      <th>imdbId</th>\n",
              "      <th>tmdbId</th>\n",
              "    </tr>\n",
              "  </thead>\n",
              "  <tbody>\n",
              "    <tr>\n",
              "      <th>0</th>\n",
              "      <td>1</td>\n",
              "      <td>114709</td>\n",
              "      <td>862.0</td>\n",
              "    </tr>\n",
              "    <tr>\n",
              "      <th>1</th>\n",
              "      <td>2</td>\n",
              "      <td>113497</td>\n",
              "      <td>8844.0</td>\n",
              "    </tr>\n",
              "  </tbody>\n",
              "</table>\n",
              "</div>"
            ],
            "text/plain": [
              "   movieId  imdbId  tmdbId\n",
              "0        1  114709   862.0\n",
              "1        2  113497  8844.0"
            ]
          },
          "metadata": {
            "tags": []
          },
          "execution_count": 227
        }
      ]
    },
    {
      "cell_type": "code",
      "metadata": {
        "colab": {
          "base_uri": "https://localhost:8080/",
          "height": 110
        },
        "id": "Y02C53OkSbxN",
        "outputId": "84e6aa8d-6226-48c6-80a1-a66f5117aeac"
      },
      "source": [
        "movies = pd.read_csv('https://raw.githubusercontent.com/dadosaocubo/recomenda_filmes/main/data/movies.csv')\r\n",
        "movies.head(2)"
      ],
      "execution_count": 228,
      "outputs": [
        {
          "output_type": "execute_result",
          "data": {
            "text/html": [
              "<div>\n",
              "<style scoped>\n",
              "    .dataframe tbody tr th:only-of-type {\n",
              "        vertical-align: middle;\n",
              "    }\n",
              "\n",
              "    .dataframe tbody tr th {\n",
              "        vertical-align: top;\n",
              "    }\n",
              "\n",
              "    .dataframe thead th {\n",
              "        text-align: right;\n",
              "    }\n",
              "</style>\n",
              "<table border=\"1\" class=\"dataframe\">\n",
              "  <thead>\n",
              "    <tr style=\"text-align: right;\">\n",
              "      <th></th>\n",
              "      <th>movieId</th>\n",
              "      <th>title</th>\n",
              "      <th>genres</th>\n",
              "    </tr>\n",
              "  </thead>\n",
              "  <tbody>\n",
              "    <tr>\n",
              "      <th>0</th>\n",
              "      <td>1</td>\n",
              "      <td>Toy Story (1995)</td>\n",
              "      <td>Adventure|Animation|Children|Comedy|Fantasy</td>\n",
              "    </tr>\n",
              "    <tr>\n",
              "      <th>1</th>\n",
              "      <td>2</td>\n",
              "      <td>Jumanji (1995)</td>\n",
              "      <td>Adventure|Children|Fantasy</td>\n",
              "    </tr>\n",
              "  </tbody>\n",
              "</table>\n",
              "</div>"
            ],
            "text/plain": [
              "   movieId             title                                       genres\n",
              "0        1  Toy Story (1995)  Adventure|Animation|Children|Comedy|Fantasy\n",
              "1        2    Jumanji (1995)                   Adventure|Children|Fantasy"
            ]
          },
          "metadata": {
            "tags": []
          },
          "execution_count": 228
        }
      ]
    },
    {
      "cell_type": "code",
      "metadata": {
        "colab": {
          "base_uri": "https://localhost:8080/",
          "height": 110
        },
        "id": "JFiVbSzgWfsi",
        "outputId": "fac3485e-acd3-4074-fe07-3dc8f66a1e8a"
      },
      "source": [
        "ratings = pd.read_csv('https://raw.githubusercontent.com/dadosaocubo/recomenda_filmes/main/data/ratings.csv')\r\n",
        "ratings.head(2)"
      ],
      "execution_count": 229,
      "outputs": [
        {
          "output_type": "execute_result",
          "data": {
            "text/html": [
              "<div>\n",
              "<style scoped>\n",
              "    .dataframe tbody tr th:only-of-type {\n",
              "        vertical-align: middle;\n",
              "    }\n",
              "\n",
              "    .dataframe tbody tr th {\n",
              "        vertical-align: top;\n",
              "    }\n",
              "\n",
              "    .dataframe thead th {\n",
              "        text-align: right;\n",
              "    }\n",
              "</style>\n",
              "<table border=\"1\" class=\"dataframe\">\n",
              "  <thead>\n",
              "    <tr style=\"text-align: right;\">\n",
              "      <th></th>\n",
              "      <th>userId</th>\n",
              "      <th>movieId</th>\n",
              "      <th>rating</th>\n",
              "      <th>timestamp</th>\n",
              "    </tr>\n",
              "  </thead>\n",
              "  <tbody>\n",
              "    <tr>\n",
              "      <th>0</th>\n",
              "      <td>1</td>\n",
              "      <td>1</td>\n",
              "      <td>4.0</td>\n",
              "      <td>964982703</td>\n",
              "    </tr>\n",
              "    <tr>\n",
              "      <th>1</th>\n",
              "      <td>1</td>\n",
              "      <td>3</td>\n",
              "      <td>4.0</td>\n",
              "      <td>964981247</td>\n",
              "    </tr>\n",
              "  </tbody>\n",
              "</table>\n",
              "</div>"
            ],
            "text/plain": [
              "   userId  movieId  rating  timestamp\n",
              "0       1        1     4.0  964982703\n",
              "1       1        3     4.0  964981247"
            ]
          },
          "metadata": {
            "tags": []
          },
          "execution_count": 229
        }
      ]
    },
    {
      "cell_type": "code",
      "metadata": {
        "colab": {
          "base_uri": "https://localhost:8080/",
          "height": 110
        },
        "id": "b75l3qH8Wgpw",
        "outputId": "69bcb2c1-dcbb-47bf-c000-404006977c2f"
      },
      "source": [
        "tags = pd.read_csv('https://raw.githubusercontent.com/dadosaocubo/recomenda_filmes/main/data/tags.csv')\r\n",
        "tags.head(2)"
      ],
      "execution_count": 230,
      "outputs": [
        {
          "output_type": "execute_result",
          "data": {
            "text/html": [
              "<div>\n",
              "<style scoped>\n",
              "    .dataframe tbody tr th:only-of-type {\n",
              "        vertical-align: middle;\n",
              "    }\n",
              "\n",
              "    .dataframe tbody tr th {\n",
              "        vertical-align: top;\n",
              "    }\n",
              "\n",
              "    .dataframe thead th {\n",
              "        text-align: right;\n",
              "    }\n",
              "</style>\n",
              "<table border=\"1\" class=\"dataframe\">\n",
              "  <thead>\n",
              "    <tr style=\"text-align: right;\">\n",
              "      <th></th>\n",
              "      <th>userId</th>\n",
              "      <th>movieId</th>\n",
              "      <th>tag</th>\n",
              "      <th>timestamp</th>\n",
              "    </tr>\n",
              "  </thead>\n",
              "  <tbody>\n",
              "    <tr>\n",
              "      <th>0</th>\n",
              "      <td>2</td>\n",
              "      <td>60756</td>\n",
              "      <td>funny</td>\n",
              "      <td>1445714994</td>\n",
              "    </tr>\n",
              "    <tr>\n",
              "      <th>1</th>\n",
              "      <td>2</td>\n",
              "      <td>60756</td>\n",
              "      <td>Highly quotable</td>\n",
              "      <td>1445714996</td>\n",
              "    </tr>\n",
              "  </tbody>\n",
              "</table>\n",
              "</div>"
            ],
            "text/plain": [
              "   userId  movieId              tag   timestamp\n",
              "0       2    60756            funny  1445714994\n",
              "1       2    60756  Highly quotable  1445714996"
            ]
          },
          "metadata": {
            "tags": []
          },
          "execution_count": 230
        }
      ]
    },
    {
      "cell_type": "markdown",
      "metadata": {
        "id": "u1qMCzBD4lLq"
      },
      "source": [
        "## 3. EDA"
      ]
    },
    {
      "cell_type": "code",
      "metadata": {
        "id": "GX1bMh7p73ws"
      },
      "source": [
        "# Juntando as informações\r\n",
        "filmes = ratings.join(movies.set_index('movieId'), on='movieId')"
      ],
      "execution_count": 231,
      "outputs": []
    },
    {
      "cell_type": "code",
      "metadata": {
        "id": "AFM2vjsRh3ru",
        "colab": {
          "base_uri": "https://localhost:8080/"
        },
        "outputId": "acfa2d54-c835-42c5-f272-270994208789"
      },
      "source": [
        "print('Tamanho da Base de Filmes: ', filmes.shape)"
      ],
      "execution_count": 232,
      "outputs": [
        {
          "output_type": "stream",
          "text": [
            "Tamanho da Base de Filmes:  (100836, 6)\n"
          ],
          "name": "stdout"
        }
      ]
    },
    {
      "cell_type": "code",
      "metadata": {
        "colab": {
          "base_uri": "https://localhost:8080/",
          "height": 294
        },
        "id": "YFrXkOSFKsyD",
        "outputId": "00ba79b0-a23f-4b05-afdc-8a17554f2a8b"
      },
      "source": [
        "filmes.describe()"
      ],
      "execution_count": 233,
      "outputs": [
        {
          "output_type": "execute_result",
          "data": {
            "text/html": [
              "<div>\n",
              "<style scoped>\n",
              "    .dataframe tbody tr th:only-of-type {\n",
              "        vertical-align: middle;\n",
              "    }\n",
              "\n",
              "    .dataframe tbody tr th {\n",
              "        vertical-align: top;\n",
              "    }\n",
              "\n",
              "    .dataframe thead th {\n",
              "        text-align: right;\n",
              "    }\n",
              "</style>\n",
              "<table border=\"1\" class=\"dataframe\">\n",
              "  <thead>\n",
              "    <tr style=\"text-align: right;\">\n",
              "      <th></th>\n",
              "      <th>userId</th>\n",
              "      <th>movieId</th>\n",
              "      <th>rating</th>\n",
              "      <th>timestamp</th>\n",
              "    </tr>\n",
              "  </thead>\n",
              "  <tbody>\n",
              "    <tr>\n",
              "      <th>count</th>\n",
              "      <td>100836.000000</td>\n",
              "      <td>100836.000000</td>\n",
              "      <td>100836.000000</td>\n",
              "      <td>1.008360e+05</td>\n",
              "    </tr>\n",
              "    <tr>\n",
              "      <th>mean</th>\n",
              "      <td>326.127564</td>\n",
              "      <td>19435.295718</td>\n",
              "      <td>3.501557</td>\n",
              "      <td>1.205946e+09</td>\n",
              "    </tr>\n",
              "    <tr>\n",
              "      <th>std</th>\n",
              "      <td>182.618491</td>\n",
              "      <td>35530.987199</td>\n",
              "      <td>1.042529</td>\n",
              "      <td>2.162610e+08</td>\n",
              "    </tr>\n",
              "    <tr>\n",
              "      <th>min</th>\n",
              "      <td>1.000000</td>\n",
              "      <td>1.000000</td>\n",
              "      <td>0.500000</td>\n",
              "      <td>8.281246e+08</td>\n",
              "    </tr>\n",
              "    <tr>\n",
              "      <th>25%</th>\n",
              "      <td>177.000000</td>\n",
              "      <td>1199.000000</td>\n",
              "      <td>3.000000</td>\n",
              "      <td>1.019124e+09</td>\n",
              "    </tr>\n",
              "    <tr>\n",
              "      <th>50%</th>\n",
              "      <td>325.000000</td>\n",
              "      <td>2991.000000</td>\n",
              "      <td>3.500000</td>\n",
              "      <td>1.186087e+09</td>\n",
              "    </tr>\n",
              "    <tr>\n",
              "      <th>75%</th>\n",
              "      <td>477.000000</td>\n",
              "      <td>8122.000000</td>\n",
              "      <td>4.000000</td>\n",
              "      <td>1.435994e+09</td>\n",
              "    </tr>\n",
              "    <tr>\n",
              "      <th>max</th>\n",
              "      <td>610.000000</td>\n",
              "      <td>193609.000000</td>\n",
              "      <td>5.000000</td>\n",
              "      <td>1.537799e+09</td>\n",
              "    </tr>\n",
              "  </tbody>\n",
              "</table>\n",
              "</div>"
            ],
            "text/plain": [
              "              userId        movieId         rating     timestamp\n",
              "count  100836.000000  100836.000000  100836.000000  1.008360e+05\n",
              "mean      326.127564   19435.295718       3.501557  1.205946e+09\n",
              "std       182.618491   35530.987199       1.042529  2.162610e+08\n",
              "min         1.000000       1.000000       0.500000  8.281246e+08\n",
              "25%       177.000000    1199.000000       3.000000  1.019124e+09\n",
              "50%       325.000000    2991.000000       3.500000  1.186087e+09\n",
              "75%       477.000000    8122.000000       4.000000  1.435994e+09\n",
              "max       610.000000  193609.000000       5.000000  1.537799e+09"
            ]
          },
          "metadata": {
            "tags": []
          },
          "execution_count": 233
        }
      ]
    },
    {
      "cell_type": "code",
      "metadata": {
        "colab": {
          "base_uri": "https://localhost:8080/"
        },
        "id": "1seOfJzF6KEh",
        "outputId": "9ef61524-b4fe-485d-f086-30852735e9eb"
      },
      "source": [
        "print('Quantidade de Filmes Avaliados: ',\r\n",
        "filmes['movieId'].value_counts().shape[0])\r\n",
        "\r\n",
        "print('Quantidade de Usuários Avaliando: ',\r\n",
        "filmes['userId'].value_counts().shape[0])"
      ],
      "execution_count": 161,
      "outputs": [
        {
          "output_type": "stream",
          "text": [
            "Quantidade de Filmes Avaliados:  9724\n",
            "Quantidade de Usuários Avaliando:  610\n"
          ],
          "name": "stdout"
        }
      ]
    },
    {
      "cell_type": "code",
      "metadata": {
        "colab": {
          "base_uri": "https://localhost:8080/"
        },
        "id": "-fHqou4l6KH5",
        "outputId": "9351f8c4-9eef-442b-dc4c-52004b4dbb7d"
      },
      "source": [
        "# Quantidade de Avaliações TOP5 Filmes\r\n",
        "filmes['title'].value_counts().head()"
      ],
      "execution_count": 162,
      "outputs": [
        {
          "output_type": "execute_result",
          "data": {
            "text/plain": [
              "Forrest Gump (1994)                 329\n",
              "Shawshank Redemption, The (1994)    317\n",
              "Pulp Fiction (1994)                 307\n",
              "Silence of the Lambs, The (1991)    279\n",
              "Matrix, The (1999)                  278\n",
              "Name: title, dtype: int64"
            ]
          },
          "metadata": {
            "tags": []
          },
          "execution_count": 162
        }
      ]
    },
    {
      "cell_type": "code",
      "metadata": {
        "colab": {
          "base_uri": "https://localhost:8080/"
        },
        "id": "D9NMqUKn6KJ9",
        "outputId": "c7c764fe-9136-4be9-bc70-3f5966245116"
      },
      "source": [
        "# Quantidade de Avaliações LOW5 Filmes\r\n",
        "filmes['title'].value_counts().tail()"
      ],
      "execution_count": 163,
      "outputs": [
        {
          "output_type": "execute_result",
          "data": {
            "text/plain": [
              "Hip Hop Witch, Da (2000)            1\n",
              "Battle in Seattle (2007)            1\n",
              "Cage Dive (2017)                    1\n",
              "Disgrace (2008)                     1\n",
              "What Men Still Talk About (2011)    1\n",
              "Name: title, dtype: int64"
            ]
          },
          "metadata": {
            "tags": []
          },
          "execution_count": 163
        }
      ]
    },
    {
      "cell_type": "code",
      "metadata": {
        "colab": {
          "base_uri": "https://localhost:8080/"
        },
        "id": "bgQvHwq-6KM5",
        "outputId": "b26a9b28-428e-4597-cc9c-0506f1b207c3"
      },
      "source": [
        "# Quantidade de Avaliações TOP5 Usuários\r\n",
        "filmes['userId'].value_counts().head()"
      ],
      "execution_count": 164,
      "outputs": [
        {
          "output_type": "execute_result",
          "data": {
            "text/plain": [
              "414    2698\n",
              "599    2478\n",
              "474    2108\n",
              "448    1864\n",
              "274    1346\n",
              "Name: userId, dtype: int64"
            ]
          },
          "metadata": {
            "tags": []
          },
          "execution_count": 164
        }
      ]
    },
    {
      "cell_type": "code",
      "metadata": {
        "colab": {
          "base_uri": "https://localhost:8080/"
        },
        "id": "pW03g4297qXA",
        "outputId": "eb6d72f5-36e2-4ea9-94ff-029af198c439"
      },
      "source": [
        "# Quantidade de Avaliações LOW5 Usuários\r\n",
        "filmes['userId'].value_counts().tail()"
      ],
      "execution_count": 165,
      "outputs": [
        {
          "output_type": "execute_result",
          "data": {
            "text/plain": [
              "406    20\n",
              "595    20\n",
              "569    20\n",
              "431    20\n",
              "442    20\n",
              "Name: userId, dtype: int64"
            ]
          },
          "metadata": {
            "tags": []
          },
          "execution_count": 165
        }
      ]
    },
    {
      "cell_type": "code",
      "metadata": {
        "colab": {
          "base_uri": "https://localhost:8080/",
          "height": 202
        },
        "id": "DWeGsfPZ9B-B",
        "outputId": "1bd54918-0005-47dc-9e98-673da14cffa6"
      },
      "source": [
        "# Avaliações do usuário 414\r\n",
        "filmes.query('userId == 414').head()"
      ],
      "execution_count": 262,
      "outputs": [
        {
          "output_type": "execute_result",
          "data": {
            "text/html": [
              "<div>\n",
              "<style scoped>\n",
              "    .dataframe tbody tr th:only-of-type {\n",
              "        vertical-align: middle;\n",
              "    }\n",
              "\n",
              "    .dataframe tbody tr th {\n",
              "        vertical-align: top;\n",
              "    }\n",
              "\n",
              "    .dataframe thead th {\n",
              "        text-align: right;\n",
              "    }\n",
              "</style>\n",
              "<table border=\"1\" class=\"dataframe\">\n",
              "  <thead>\n",
              "    <tr style=\"text-align: right;\">\n",
              "      <th></th>\n",
              "      <th>userId</th>\n",
              "      <th>movieId</th>\n",
              "      <th>rating</th>\n",
              "      <th>timestamp</th>\n",
              "      <th>title</th>\n",
              "      <th>genres</th>\n",
              "    </tr>\n",
              "  </thead>\n",
              "  <tbody>\n",
              "    <tr>\n",
              "      <th>62294</th>\n",
              "      <td>414</td>\n",
              "      <td>1</td>\n",
              "      <td>4.0</td>\n",
              "      <td>961438127</td>\n",
              "      <td>Toy Story (1995)</td>\n",
              "      <td>Adventure|Animation|Children|Comedy|Fantasy</td>\n",
              "    </tr>\n",
              "    <tr>\n",
              "      <th>62295</th>\n",
              "      <td>414</td>\n",
              "      <td>2</td>\n",
              "      <td>3.0</td>\n",
              "      <td>961594981</td>\n",
              "      <td>Jumanji (1995)</td>\n",
              "      <td>Adventure|Children|Fantasy</td>\n",
              "    </tr>\n",
              "    <tr>\n",
              "      <th>62296</th>\n",
              "      <td>414</td>\n",
              "      <td>3</td>\n",
              "      <td>4.0</td>\n",
              "      <td>961439278</td>\n",
              "      <td>Grumpier Old Men (1995)</td>\n",
              "      <td>Comedy|Romance</td>\n",
              "    </tr>\n",
              "    <tr>\n",
              "      <th>62297</th>\n",
              "      <td>414</td>\n",
              "      <td>5</td>\n",
              "      <td>2.0</td>\n",
              "      <td>961437647</td>\n",
              "      <td>Father of the Bride Part II (1995)</td>\n",
              "      <td>Comedy</td>\n",
              "    </tr>\n",
              "    <tr>\n",
              "      <th>62298</th>\n",
              "      <td>414</td>\n",
              "      <td>6</td>\n",
              "      <td>3.0</td>\n",
              "      <td>961515642</td>\n",
              "      <td>Heat (1995)</td>\n",
              "      <td>Action|Crime|Thriller</td>\n",
              "    </tr>\n",
              "  </tbody>\n",
              "</table>\n",
              "</div>"
            ],
            "text/plain": [
              "       userId  ...                                       genres\n",
              "62294     414  ...  Adventure|Animation|Children|Comedy|Fantasy\n",
              "62295     414  ...                   Adventure|Children|Fantasy\n",
              "62296     414  ...                               Comedy|Romance\n",
              "62297     414  ...                                       Comedy\n",
              "62298     414  ...                        Action|Crime|Thriller\n",
              "\n",
              "[5 rows x 6 columns]"
            ]
          },
          "metadata": {
            "tags": []
          },
          "execution_count": 262
        }
      ]
    },
    {
      "cell_type": "code",
      "metadata": {
        "colab": {
          "base_uri": "https://localhost:8080/",
          "height": 49
        },
        "id": "mK4zO_HvMVfx",
        "outputId": "86375675-43eb-47a3-cb4e-bce70274b529"
      },
      "source": [
        "# Avaliações do usuário 414\r\n",
        "filmes.query('userId == 414 and movieId == 168248')"
      ],
      "execution_count": 263,
      "outputs": [
        {
          "output_type": "execute_result",
          "data": {
            "text/html": [
              "<div>\n",
              "<style scoped>\n",
              "    .dataframe tbody tr th:only-of-type {\n",
              "        vertical-align: middle;\n",
              "    }\n",
              "\n",
              "    .dataframe tbody tr th {\n",
              "        vertical-align: top;\n",
              "    }\n",
              "\n",
              "    .dataframe thead th {\n",
              "        text-align: right;\n",
              "    }\n",
              "</style>\n",
              "<table border=\"1\" class=\"dataframe\">\n",
              "  <thead>\n",
              "    <tr style=\"text-align: right;\">\n",
              "      <th></th>\n",
              "      <th>userId</th>\n",
              "      <th>movieId</th>\n",
              "      <th>rating</th>\n",
              "      <th>timestamp</th>\n",
              "      <th>title</th>\n",
              "      <th>genres</th>\n",
              "    </tr>\n",
              "  </thead>\n",
              "  <tbody>\n",
              "  </tbody>\n",
              "</table>\n",
              "</div>"
            ],
            "text/plain": [
              "Empty DataFrame\n",
              "Columns: [userId, movieId, rating, timestamp, title, genres]\n",
              "Index: []"
            ]
          },
          "metadata": {
            "tags": []
          },
          "execution_count": 263
        }
      ]
    },
    {
      "cell_type": "markdown",
      "metadata": {
        "id": "9BUBx0BU6Kcp"
      },
      "source": [
        "## 4. Modelo"
      ]
    },
    {
      "cell_type": "code",
      "metadata": {
        "id": "MpnUK5anhV1V"
      },
      "source": [
        "# Configuração para treinamento\n",
        "reader = Reader(rating_scale=(0,5))\n",
        "data = Dataset.load_from_df(ratings[['userId', 'movieId', 'rating']], reader)\n",
        "# Divisão dos dados de treino e teste\n",
        "trainset, testset = train_test_split(data, test_size=.2)"
      ],
      "execution_count": 367,
      "outputs": []
    },
    {
      "cell_type": "code",
      "metadata": {
        "id": "pFX1pXHaiR0d"
      },
      "source": [
        "# Configurações das medidas de similaridade\r\n",
        "sim_options = { 'name': 'pearson_baseline', 'user_based': True }"
      ],
      "execution_count": 168,
      "outputs": []
    },
    {
      "cell_type": "markdown",
      "metadata": {
        "id": "zbf_fNcFMgok"
      },
      "source": [
        "### 4.1 Treinamento do Modelo"
      ]
    },
    {
      "cell_type": "code",
      "metadata": {
        "colab": {
          "base_uri": "https://localhost:8080/"
        },
        "id": "g5lRdBaYYk5j",
        "outputId": "f48b9cd1-a844-404b-f3ba-4e380c89906f"
      },
      "source": [
        "knn = KNNBaseline(k=33, sim_options=sim_options)\r\n",
        "knn.fit(trainset)"
      ],
      "execution_count": 169,
      "outputs": [
        {
          "output_type": "stream",
          "text": [
            "Estimating biases using als...\n",
            "Computing the pearson_baseline similarity matrix...\n",
            "Done computing similarity matrix.\n"
          ],
          "name": "stdout"
        },
        {
          "output_type": "execute_result",
          "data": {
            "text/plain": [
              "<surprise.prediction_algorithms.knns.KNNBaseline at 0x7f7ff5adb470>"
            ]
          },
          "metadata": {
            "tags": []
          },
          "execution_count": 169
        }
      ]
    },
    {
      "cell_type": "code",
      "metadata": {
        "colab": {
          "base_uri": "https://localhost:8080/"
        },
        "id": "F-IpYbHIYlEs",
        "outputId": "93b3c61e-4151-4e2b-88b0-39ff7f8b6ee1"
      },
      "source": [
        "slo = SlopeOne()\r\n",
        "slo.fit(trainset)"
      ],
      "execution_count": 170,
      "outputs": [
        {
          "output_type": "execute_result",
          "data": {
            "text/plain": [
              "<surprise.prediction_algorithms.slope_one.SlopeOne at 0x7f7ff5a699e8>"
            ]
          },
          "metadata": {
            "tags": []
          },
          "execution_count": 170
        }
      ]
    },
    {
      "cell_type": "code",
      "metadata": {
        "colab": {
          "base_uri": "https://localhost:8080/"
        },
        "id": "UWjSj2HwYlM9",
        "outputId": "c8d39af6-a71f-495f-a12a-25a3f1d15d2f"
      },
      "source": [
        "svd = SVDpp(n_epochs=10, verbose=True)\r\n",
        "svd.fit(trainset)"
      ],
      "execution_count": 171,
      "outputs": [
        {
          "output_type": "stream",
          "text": [
            " processing epoch 0\n",
            " processing epoch 1\n",
            " processing epoch 2\n",
            " processing epoch 3\n",
            " processing epoch 4\n",
            " processing epoch 5\n",
            " processing epoch 6\n",
            " processing epoch 7\n",
            " processing epoch 8\n",
            " processing epoch 9\n"
          ],
          "name": "stdout"
        },
        {
          "output_type": "execute_result",
          "data": {
            "text/plain": [
              "<surprise.prediction_algorithms.matrix_factorization.SVDpp at 0x7f7ff5a69908>"
            ]
          },
          "metadata": {
            "tags": []
          },
          "execution_count": 171
        }
      ]
    },
    {
      "cell_type": "code",
      "metadata": {
        "colab": {
          "base_uri": "https://localhost:8080/"
        },
        "id": "uixbIybdYlTv",
        "outputId": "6573c3c9-d623-4358-b64a-c3ec5e1cbebd"
      },
      "source": [
        "co = CoClustering(n_epochs=10, verbose=True)\r\n",
        "co.fit(trainset)"
      ],
      "execution_count": 368,
      "outputs": [
        {
          "output_type": "stream",
          "text": [
            "Processing epoch 0\n",
            "Processing epoch 1\n",
            "Processing epoch 2\n",
            "Processing epoch 3\n",
            "Processing epoch 4\n",
            "Processing epoch 5\n",
            "Processing epoch 6\n",
            "Processing epoch 7\n",
            "Processing epoch 8\n",
            "Processing epoch 9\n"
          ],
          "name": "stdout"
        },
        {
          "output_type": "execute_result",
          "data": {
            "text/plain": [
              "<surprise.prediction_algorithms.co_clustering.CoClustering at 0x7f7ffefadb70>"
            ]
          },
          "metadata": {
            "tags": []
          },
          "execution_count": 368
        }
      ]
    },
    {
      "cell_type": "markdown",
      "metadata": {
        "id": "Ty3UNiUwMlaA"
      },
      "source": [
        "### 4.2 Avaliação do Modelo"
      ]
    },
    {
      "cell_type": "code",
      "metadata": {
        "colab": {
          "base_uri": "https://localhost:8080/"
        },
        "id": "cRbLaV_bl5_H",
        "outputId": "4851367a-e4da-4dc7-bb16-b750cc31cc30"
      },
      "source": [
        "predictions_knn = knn.test(testset)\r\n",
        "accuracy.rmse(predictions_knn)"
      ],
      "execution_count": 173,
      "outputs": [
        {
          "output_type": "stream",
          "text": [
            "RMSE: 0.8765\n"
          ],
          "name": "stdout"
        },
        {
          "output_type": "execute_result",
          "data": {
            "text/plain": [
              "0.8764541519882564"
            ]
          },
          "metadata": {
            "tags": []
          },
          "execution_count": 173
        }
      ]
    },
    {
      "cell_type": "code",
      "metadata": {
        "colab": {
          "base_uri": "https://localhost:8080/"
        },
        "id": "GQVKTXvjmI3J",
        "outputId": "bca1fb78-d63e-425f-8c1d-b99e6091f334"
      },
      "source": [
        "predictions_svd = svd.test(testset)\r\n",
        "accuracy.rmse(predictions_svd)"
      ],
      "execution_count": 174,
      "outputs": [
        {
          "output_type": "stream",
          "text": [
            "RMSE: 0.8718\n"
          ],
          "name": "stdout"
        },
        {
          "output_type": "execute_result",
          "data": {
            "text/plain": [
              "0.871776960406083"
            ]
          },
          "metadata": {
            "tags": []
          },
          "execution_count": 174
        }
      ]
    },
    {
      "cell_type": "code",
      "metadata": {
        "colab": {
          "base_uri": "https://localhost:8080/"
        },
        "id": "P1c5tsTLmJAJ",
        "outputId": "d22f9c87-3b4d-4c23-d9fc-7b52bfccc862"
      },
      "source": [
        "predictions_co = co.test(testset)\r\n",
        "accuracy.rmse(predictions_co)"
      ],
      "execution_count": 345,
      "outputs": [
        {
          "output_type": "stream",
          "text": [
            "RMSE: 1.5011\n"
          ],
          "name": "stdout"
        },
        {
          "output_type": "execute_result",
          "data": {
            "text/plain": [
              "1.5010697628039456"
            ]
          },
          "metadata": {
            "tags": []
          },
          "execution_count": 345
        }
      ]
    },
    {
      "cell_type": "code",
      "metadata": {
        "colab": {
          "base_uri": "https://localhost:8080/"
        },
        "id": "EEPd12DomJFk",
        "outputId": "bf204001-09f2-4060-be6c-6c385acf4a10"
      },
      "source": [
        "predictions_slo = slo.test(testset)\r\n",
        "accuracy.rmse(predictions_slo)"
      ],
      "execution_count": 176,
      "outputs": [
        {
          "output_type": "stream",
          "text": [
            "RMSE: 0.9002\n"
          ],
          "name": "stdout"
        },
        {
          "output_type": "execute_result",
          "data": {
            "text/plain": [
              "0.9001668760437501"
            ]
          },
          "metadata": {
            "tags": []
          },
          "execution_count": 176
        }
      ]
    },
    {
      "cell_type": "markdown",
      "metadata": {
        "id": "YRKt-1aUMpnl"
      },
      "source": [
        "### 4.3 Predição do Modelo"
      ]
    },
    {
      "cell_type": "markdown",
      "metadata": {
        "id": "CG4pzxPDn9XL"
      },
      "source": [
        "Parameters:\t\r\n",
        "* uid – The (raw) user id. See this note.\r\n",
        "* iid – The (raw) item id. See this note.\r\n",
        "* r_ui (float) – The true rating rui.\r\n",
        "* est (float) – The estimated rating r^ui.\r\n",
        "* details (dict) – Stores additional details about the prediction that might be useful for later analysis."
      ]
    },
    {
      "cell_type": "code",
      "metadata": {
        "colab": {
          "base_uri": "https://localhost:8080/"
        },
        "id": "KOMMUBkIoOfS",
        "outputId": "763bc2a7-778f-4fdc-f612-f8b6af8b2e6a"
      },
      "source": [
        "# Predição com os dados de teste\r\n",
        "predictions_co[:5]"
      ],
      "execution_count": 346,
      "outputs": [
        {
          "output_type": "execute_result",
          "data": {
            "text/plain": [
              "[Prediction(uid=534, iid=46578, r_ui=2.5, est=4.0010697628039456, details={'was_impossible': False})]"
            ]
          },
          "metadata": {
            "tags": []
          },
          "execution_count": 346
        }
      ]
    },
    {
      "cell_type": "code",
      "metadata": {
        "colab": {
          "base_uri": "https://localhost:8080/"
        },
        "id": "fk47bl0ZXx0k",
        "outputId": "bfe4a679-9779-415b-edf5-1d5c6614b41a"
      },
      "source": [
        "# uid=247, iid=364 Conversão para o id interno\r\n",
        "print(co.trainset.to_inner_uid(247))\r\n",
        "print(co.trainset.to_inner_iid(364))\r\n",
        "\r\n",
        "# uid=247, iid=364 Conversão para o id externo\r\n",
        "print(co.trainset.to_raw_uid(300))\r\n",
        "print(co.trainset.to_raw_iid(515))"
      ],
      "execution_count": 255,
      "outputs": [
        {
          "output_type": "stream",
          "text": [
            "300\n",
            "515\n",
            "247\n",
            "364\n"
          ],
          "name": "stdout"
        }
      ]
    },
    {
      "cell_type": "markdown",
      "metadata": {
        "id": "ERFTcuD41Bq5"
      },
      "source": [
        "#### 4.3.1. Função Análise de Recomendação"
      ]
    },
    {
      "cell_type": "code",
      "metadata": {
        "id": "yDDsOqkG-2im"
      },
      "source": [
        "def recomenda_filme(userId,movieId):\r\n",
        "  # ID do usuário para predição\r\n",
        "  uid = userId\r\n",
        "  # ID do filme para predição\r\n",
        "  iid = movieId \r\n",
        "  nome_filme = movies.query('movieId == @movieId')['title'].values[0]\r\n",
        "  print('Filme:', nome_filme)\r\n",
        "  print('Usuário:', userId)\r\n",
        "  if filmes.query('userId == @userId and movieId == @movieId')['title'].values.size == 0:\r\n",
        "    print('Usuário não avaliou o filme!')\r\n",
        "  else:\r\n",
        "    nota_filme = ratings.query('userId == @userId and movieId == @movieId')['rating'].values[0]\r\n",
        "    print('Avaliação do usuário:', nota_filme)\r\n",
        "  # Predição baseada no melhor modelo\r\n",
        "  print('Estimativa de Avaliação[0-5]:', round(co.predict(co.trainset.to_raw_uid(uid), co.trainset.to_raw_iid(iid))[3], 2))"
      ],
      "execution_count": 299,
      "outputs": []
    },
    {
      "cell_type": "code",
      "metadata": {
        "colab": {
          "base_uri": "https://localhost:8080/"
        },
        "id": "s1LYsIcrOBRj",
        "outputId": "e01c0266-0643-46d3-fbb1-3664e960860a"
      },
      "source": [
        "recomenda_filme(406,3)"
      ],
      "execution_count": 303,
      "outputs": [
        {
          "output_type": "stream",
          "text": [
            "Filme: Grumpier Old Men (1995)\n",
            "Usuário: 406\n",
            "Usuário não avaliou o filme!\n",
            "Estimativa de Avaliação[0-5]: 3.15\n"
          ],
          "name": "stdout"
        }
      ]
    },
    {
      "cell_type": "code",
      "metadata": {
        "colab": {
          "base_uri": "https://localhost:8080/"
        },
        "id": "eO1PbeMnArQs",
        "outputId": "0f1a0ff0-3f5f-476c-86f0-3655786e1d78"
      },
      "source": [
        "recomenda_filme(247,364) "
      ],
      "execution_count": 364,
      "outputs": [
        {
          "output_type": "stream",
          "text": [
            "Filme: Lion King, The (1994)\n",
            "Usuário: 247\n",
            "Avaliação do usuário 5.0\n",
            "Estimativa de Avaliação[0-5]: 3.06\n"
          ],
          "name": "stdout"
        }
      ]
    },
    {
      "cell_type": "markdown",
      "metadata": {
        "id": "ziR3l4an1SJO"
      },
      "source": [
        "#### 4.3.2. Função TOP Recomendações"
      ]
    },
    {
      "cell_type": "code",
      "metadata": {
        "id": "VoOS2t0tdtEz"
      },
      "source": [
        "def top_n(userId,n):\r\n",
        "  # Selecionando apenas os filmes do treinamento\r\n",
        "  lista_filmes_treino = []\r\n",
        "  for x in trainset.all_items():\r\n",
        "    lista_filmes_treino.append(trainset.to_raw_iid(x))\r\n",
        "  # Selecionando os filmes do treinamento que o usuário não avaliou\r\n",
        "  filmes_user = ratings.query('userId == @userId')['movieId'].values\r\n",
        "  filmes_user_nao = movies.query('movieId not in @filmes_user')\r\n",
        "  filmes_user_nao = filmes_user_nao.query('movieId in @lista_filmes_treino')['movieId'].values\r\n",
        "  # Criando um ranking para o usuário para os filmes não avaliados\r\n",
        "  ranking=[]\r\n",
        "  for movieId in filmes_user_nao:\r\n",
        "    ranking.append((movieId, co.predict(co.trainset.to_inner_uid(userId), co.trainset.to_inner_iid(movieId))[3]))\r\n",
        "  # Ordenando os TOP filmes avaliados\r\n",
        "  ranking.sort(key=lambda x: x[1], reverse=True)\r\n",
        "  # Selecionando os Ids dos filmes\r\n",
        "  x,_ = zip(*ranking[:n])\r\n",
        "  # Listando os nomes dos filmes em ordem de recomendação\r\n",
        "  return movies.query('movieId in @x')['title'].copy().reset_index(drop=True)"
      ],
      "execution_count": 472,
      "outputs": []
    },
    {
      "cell_type": "code",
      "metadata": {
        "colab": {
          "base_uri": "https://localhost:8080/"
        },
        "id": "gj9ENsZ7hZHt",
        "outputId": "b47e512a-d3cc-42b7-da3c-8a03fa737b0b"
      },
      "source": [
        "top_n(414,5)"
      ],
      "execution_count": 473,
      "outputs": [
        {
          "output_type": "execute_result",
          "data": {
            "text/plain": [
              "0                               Out to Sea (1997)\n",
              "1                                  Prancer (1989)\n",
              "2                           Big Tease, The (1999)\n",
              "3    Jesus of Montreal (Jésus de Montréal) (1989)\n",
              "4                                Session 9 (2001)\n",
              "Name: title, dtype: object"
            ]
          },
          "metadata": {
            "tags": []
          },
          "execution_count": 473
        }
      ]
    },
    {
      "cell_type": "code",
      "metadata": {
        "colab": {
          "base_uri": "https://localhost:8080/"
        },
        "id": "ANPv4CTBuiaz",
        "outputId": "e13baf59-f0ab-46bf-e433-6021d704bbcc"
      },
      "source": [
        "top_n(406,5)"
      ],
      "execution_count": 474,
      "outputs": [
        {
          "output_type": "execute_result",
          "data": {
            "text/plain": [
              "0                              Mute Witness (1994)\n",
              "1    Farewell My Concubine (Ba wang bie ji) (1993)\n",
              "2                          To Catch a Thief (1955)\n",
              "3                             Graduate, The (1967)\n",
              "4                                    Carrie (1976)\n",
              "Name: title, dtype: object"
            ]
          },
          "metadata": {
            "tags": []
          },
          "execution_count": 474
        }
      ]
    }
  ]
}