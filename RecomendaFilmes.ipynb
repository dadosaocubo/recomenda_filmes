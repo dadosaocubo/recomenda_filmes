{
  "nbformat": 4,
  "nbformat_minor": 0,
  "metadata": {
    "colab": {
      "name": "Surprise.ipynb",
      "provenance": [],
      "collapsed_sections": [],
      "toc_visible": true
    },
    "kernelspec": {
      "name": "python3",
      "display_name": "Python 3"
    }
  },
  "cells": [
    {
      "cell_type": "markdown",
      "metadata": {
        "id": "zUw7Nl6p4SWq"
      },
      "source": [
        "# Recomendação de Filmes"
      ]
    },
    {
      "cell_type": "markdown",
      "metadata": {
        "id": "ABu6sRBM4aie"
      },
      "source": [
        "Vamos utilizar o surprise para resolver um problema de recomendação de filmes, baseado em notas de avaliação dos usuário. O dataset utlizado foi o [MovieLens Latest Datasets](https://grouplens.org/datasets/movielens/), com 100k avaliações de de 600 usários em 9k filmes.\r\n",
        "\r\n",
        "A recomendação de filmes é algo comum encontrado nas plataformas de streaming, mas a recomendação no geral está presente em muitas outras aplicações."
      ]
    },
    {
      "cell_type": "markdown",
      "metadata": {
        "id": "MI2lb6-t4aqj"
      },
      "source": [
        "## 1. Importando as Bibliotecas"
      ]
    },
    {
      "cell_type": "markdown",
      "metadata": {
        "id": "leXpRhF_3f54"
      },
      "source": [
        "Vamos começar instalando a biblioteca surprise."
      ]
    },
    {
      "cell_type": "code",
      "metadata": {
        "colab": {
          "base_uri": "https://localhost:8080/"
        },
        "id": "6f55aYyvSCzx",
        "outputId": "252a6ff7-601a-4e47-e542-bf53d09bde2d"
      },
      "source": [
        "!pip install surprise"
      ],
      "execution_count": 227,
      "outputs": [
        {
          "output_type": "stream",
          "text": [
            "Requirement already satisfied: surprise in /usr/local/lib/python3.6/dist-packages (0.1)\n",
            "Requirement already satisfied: scikit-surprise in /usr/local/lib/python3.6/dist-packages (from surprise) (1.1.1)\n",
            "Requirement already satisfied: six>=1.10.0 in /usr/local/lib/python3.6/dist-packages (from scikit-surprise->surprise) (1.15.0)\n",
            "Requirement already satisfied: scipy>=1.0.0 in /usr/local/lib/python3.6/dist-packages (from scikit-surprise->surprise) (1.4.1)\n",
            "Requirement already satisfied: numpy>=1.11.2 in /usr/local/lib/python3.6/dist-packages (from scikit-surprise->surprise) (1.18.5)\n",
            "Requirement already satisfied: joblib>=0.11 in /usr/local/lib/python3.6/dist-packages (from scikit-surprise->surprise) (0.17.0)\n"
          ],
          "name": "stdout"
        }
      ]
    },
    {
      "cell_type": "markdown",
      "metadata": {
        "id": "DtiXeJu93nEu"
      },
      "source": [
        "Agora podemos importar todos os pacotes q vamos utilizar."
      ]
    },
    {
      "cell_type": "code",
      "metadata": {
        "id": "85YmrqkLgGqR"
      },
      "source": [
        "import pandas as pd\n",
        "import numpy as np\n",
        "\n",
        "from surprise import Reader, Dataset\n",
        "from surprise.prediction_algorithms.knns import KNNBaseline\n",
        "from surprise.model_selection import train_test_split\n",
        "from surprise.prediction_algorithms.matrix_factorization import SVDpp\n",
        "from surprise.prediction_algorithms.slope_one import SlopeOne\n",
        "from surprise.prediction_algorithms.co_clustering import CoClustering\n",
        "from surprise import accuracy\n"
      ],
      "execution_count": 228,
      "outputs": []
    },
    {
      "cell_type": "markdown",
      "metadata": {
        "id": "IB_U66i44hJA"
      },
      "source": [
        "## 2. Carregando Dados"
      ]
    },
    {
      "cell_type": "markdown",
      "metadata": {
        "id": "rKhJnXzE3tWQ"
      },
      "source": [
        "Vamos carregar todas as nossas base de dados."
      ]
    },
    {
      "cell_type": "code",
      "metadata": {
        "colab": {
          "base_uri": "https://localhost:8080/",
          "height": 110
        },
        "id": "eQyGl6ecSJ2f",
        "outputId": "c9f1744f-9cb2-43c5-e663-47a98266f541"
      },
      "source": [
        "links = pd.read_csv('https://raw.githubusercontent.com/dadosaocubo/recomenda_filmes/main/data/links.csv')\r\n",
        "links.head(2)"
      ],
      "execution_count": 229,
      "outputs": [
        {
          "output_type": "execute_result",
          "data": {
            "text/html": [
              "<div>\n",
              "<style scoped>\n",
              "    .dataframe tbody tr th:only-of-type {\n",
              "        vertical-align: middle;\n",
              "    }\n",
              "\n",
              "    .dataframe tbody tr th {\n",
              "        vertical-align: top;\n",
              "    }\n",
              "\n",
              "    .dataframe thead th {\n",
              "        text-align: right;\n",
              "    }\n",
              "</style>\n",
              "<table border=\"1\" class=\"dataframe\">\n",
              "  <thead>\n",
              "    <tr style=\"text-align: right;\">\n",
              "      <th></th>\n",
              "      <th>movieId</th>\n",
              "      <th>imdbId</th>\n",
              "      <th>tmdbId</th>\n",
              "    </tr>\n",
              "  </thead>\n",
              "  <tbody>\n",
              "    <tr>\n",
              "      <th>0</th>\n",
              "      <td>1</td>\n",
              "      <td>114709</td>\n",
              "      <td>862.0</td>\n",
              "    </tr>\n",
              "    <tr>\n",
              "      <th>1</th>\n",
              "      <td>2</td>\n",
              "      <td>113497</td>\n",
              "      <td>8844.0</td>\n",
              "    </tr>\n",
              "  </tbody>\n",
              "</table>\n",
              "</div>"
            ],
            "text/plain": [
              "   movieId  imdbId  tmdbId\n",
              "0        1  114709   862.0\n",
              "1        2  113497  8844.0"
            ]
          },
          "metadata": {
            "tags": []
          },
          "execution_count": 229
        }
      ]
    },
    {
      "cell_type": "code",
      "metadata": {
        "colab": {
          "base_uri": "https://localhost:8080/",
          "height": 110
        },
        "id": "Y02C53OkSbxN",
        "outputId": "d9d1670d-3d46-4687-b20c-6ea470aafb6a"
      },
      "source": [
        "movies = pd.read_csv('https://raw.githubusercontent.com/dadosaocubo/recomenda_filmes/main/data/movies.csv')\r\n",
        "movies.head(2)"
      ],
      "execution_count": 230,
      "outputs": [
        {
          "output_type": "execute_result",
          "data": {
            "text/html": [
              "<div>\n",
              "<style scoped>\n",
              "    .dataframe tbody tr th:only-of-type {\n",
              "        vertical-align: middle;\n",
              "    }\n",
              "\n",
              "    .dataframe tbody tr th {\n",
              "        vertical-align: top;\n",
              "    }\n",
              "\n",
              "    .dataframe thead th {\n",
              "        text-align: right;\n",
              "    }\n",
              "</style>\n",
              "<table border=\"1\" class=\"dataframe\">\n",
              "  <thead>\n",
              "    <tr style=\"text-align: right;\">\n",
              "      <th></th>\n",
              "      <th>movieId</th>\n",
              "      <th>title</th>\n",
              "      <th>genres</th>\n",
              "    </tr>\n",
              "  </thead>\n",
              "  <tbody>\n",
              "    <tr>\n",
              "      <th>0</th>\n",
              "      <td>1</td>\n",
              "      <td>Toy Story (1995)</td>\n",
              "      <td>Adventure|Animation|Children|Comedy|Fantasy</td>\n",
              "    </tr>\n",
              "    <tr>\n",
              "      <th>1</th>\n",
              "      <td>2</td>\n",
              "      <td>Jumanji (1995)</td>\n",
              "      <td>Adventure|Children|Fantasy</td>\n",
              "    </tr>\n",
              "  </tbody>\n",
              "</table>\n",
              "</div>"
            ],
            "text/plain": [
              "   movieId             title                                       genres\n",
              "0        1  Toy Story (1995)  Adventure|Animation|Children|Comedy|Fantasy\n",
              "1        2    Jumanji (1995)                   Adventure|Children|Fantasy"
            ]
          },
          "metadata": {
            "tags": []
          },
          "execution_count": 230
        }
      ]
    },
    {
      "cell_type": "code",
      "metadata": {
        "colab": {
          "base_uri": "https://localhost:8080/",
          "height": 110
        },
        "id": "JFiVbSzgWfsi",
        "outputId": "25c50d80-1c30-42cd-fc22-aee19314b320"
      },
      "source": [
        "ratings = pd.read_csv('https://raw.githubusercontent.com/dadosaocubo/recomenda_filmes/main/data/ratings.csv')\r\n",
        "ratings.head(2)"
      ],
      "execution_count": 231,
      "outputs": [
        {
          "output_type": "execute_result",
          "data": {
            "text/html": [
              "<div>\n",
              "<style scoped>\n",
              "    .dataframe tbody tr th:only-of-type {\n",
              "        vertical-align: middle;\n",
              "    }\n",
              "\n",
              "    .dataframe tbody tr th {\n",
              "        vertical-align: top;\n",
              "    }\n",
              "\n",
              "    .dataframe thead th {\n",
              "        text-align: right;\n",
              "    }\n",
              "</style>\n",
              "<table border=\"1\" class=\"dataframe\">\n",
              "  <thead>\n",
              "    <tr style=\"text-align: right;\">\n",
              "      <th></th>\n",
              "      <th>userId</th>\n",
              "      <th>movieId</th>\n",
              "      <th>rating</th>\n",
              "      <th>timestamp</th>\n",
              "    </tr>\n",
              "  </thead>\n",
              "  <tbody>\n",
              "    <tr>\n",
              "      <th>0</th>\n",
              "      <td>1</td>\n",
              "      <td>1</td>\n",
              "      <td>4.0</td>\n",
              "      <td>964982703</td>\n",
              "    </tr>\n",
              "    <tr>\n",
              "      <th>1</th>\n",
              "      <td>1</td>\n",
              "      <td>3</td>\n",
              "      <td>4.0</td>\n",
              "      <td>964981247</td>\n",
              "    </tr>\n",
              "  </tbody>\n",
              "</table>\n",
              "</div>"
            ],
            "text/plain": [
              "   userId  movieId  rating  timestamp\n",
              "0       1        1     4.0  964982703\n",
              "1       1        3     4.0  964981247"
            ]
          },
          "metadata": {
            "tags": []
          },
          "execution_count": 231
        }
      ]
    },
    {
      "cell_type": "code",
      "metadata": {
        "colab": {
          "base_uri": "https://localhost:8080/",
          "height": 110
        },
        "id": "b75l3qH8Wgpw",
        "outputId": "866653d3-5e5d-4745-8974-a0cb84b58cb1"
      },
      "source": [
        "tags = pd.read_csv('https://raw.githubusercontent.com/dadosaocubo/recomenda_filmes/main/data/tags.csv')\r\n",
        "tags.head(2)"
      ],
      "execution_count": 232,
      "outputs": [
        {
          "output_type": "execute_result",
          "data": {
            "text/html": [
              "<div>\n",
              "<style scoped>\n",
              "    .dataframe tbody tr th:only-of-type {\n",
              "        vertical-align: middle;\n",
              "    }\n",
              "\n",
              "    .dataframe tbody tr th {\n",
              "        vertical-align: top;\n",
              "    }\n",
              "\n",
              "    .dataframe thead th {\n",
              "        text-align: right;\n",
              "    }\n",
              "</style>\n",
              "<table border=\"1\" class=\"dataframe\">\n",
              "  <thead>\n",
              "    <tr style=\"text-align: right;\">\n",
              "      <th></th>\n",
              "      <th>userId</th>\n",
              "      <th>movieId</th>\n",
              "      <th>tag</th>\n",
              "      <th>timestamp</th>\n",
              "    </tr>\n",
              "  </thead>\n",
              "  <tbody>\n",
              "    <tr>\n",
              "      <th>0</th>\n",
              "      <td>2</td>\n",
              "      <td>60756</td>\n",
              "      <td>funny</td>\n",
              "      <td>1445714994</td>\n",
              "    </tr>\n",
              "    <tr>\n",
              "      <th>1</th>\n",
              "      <td>2</td>\n",
              "      <td>60756</td>\n",
              "      <td>Highly quotable</td>\n",
              "      <td>1445714996</td>\n",
              "    </tr>\n",
              "  </tbody>\n",
              "</table>\n",
              "</div>"
            ],
            "text/plain": [
              "   userId  movieId              tag   timestamp\n",
              "0       2    60756            funny  1445714994\n",
              "1       2    60756  Highly quotable  1445714996"
            ]
          },
          "metadata": {
            "tags": []
          },
          "execution_count": 232
        }
      ]
    },
    {
      "cell_type": "markdown",
      "metadata": {
        "id": "u1qMCzBD4lLq"
      },
      "source": [
        "## 3. EDA"
      ]
    },
    {
      "cell_type": "markdown",
      "metadata": {
        "id": "CYBEXSB23zP5"
      },
      "source": [
        "Agora vamos dar uma analisada nos dados que temos. Sigamos com a nossa Análise Exploratória dos Dados."
      ]
    },
    {
      "cell_type": "code",
      "metadata": {
        "id": "GX1bMh7p73ws"
      },
      "source": [
        "# Juntando as informações de filmes e avaliações\r\n",
        "filmes = ratings.join(movies.set_index('movieId'), on='movieId')"
      ],
      "execution_count": 233,
      "outputs": []
    },
    {
      "cell_type": "code",
      "metadata": {
        "id": "AFM2vjsRh3ru",
        "colab": {
          "base_uri": "https://localhost:8080/"
        },
        "outputId": "1ce39d63-7522-4a15-a78c-bc09140085b6"
      },
      "source": [
        "print('Tamanho da Base de Filmes: ', filmes.shape)"
      ],
      "execution_count": 234,
      "outputs": [
        {
          "output_type": "stream",
          "text": [
            "Tamanho da Base de Filmes:  (100836, 6)\n"
          ],
          "name": "stdout"
        }
      ]
    },
    {
      "cell_type": "code",
      "metadata": {
        "colab": {
          "base_uri": "https://localhost:8080/",
          "height": 294
        },
        "id": "YFrXkOSFKsyD",
        "outputId": "6ffaeb2a-935c-4505-bc06-4041d29382c5"
      },
      "source": [
        "filmes.describe()"
      ],
      "execution_count": 235,
      "outputs": [
        {
          "output_type": "execute_result",
          "data": {
            "text/html": [
              "<div>\n",
              "<style scoped>\n",
              "    .dataframe tbody tr th:only-of-type {\n",
              "        vertical-align: middle;\n",
              "    }\n",
              "\n",
              "    .dataframe tbody tr th {\n",
              "        vertical-align: top;\n",
              "    }\n",
              "\n",
              "    .dataframe thead th {\n",
              "        text-align: right;\n",
              "    }\n",
              "</style>\n",
              "<table border=\"1\" class=\"dataframe\">\n",
              "  <thead>\n",
              "    <tr style=\"text-align: right;\">\n",
              "      <th></th>\n",
              "      <th>userId</th>\n",
              "      <th>movieId</th>\n",
              "      <th>rating</th>\n",
              "      <th>timestamp</th>\n",
              "    </tr>\n",
              "  </thead>\n",
              "  <tbody>\n",
              "    <tr>\n",
              "      <th>count</th>\n",
              "      <td>100836.000000</td>\n",
              "      <td>100836.000000</td>\n",
              "      <td>100836.000000</td>\n",
              "      <td>1.008360e+05</td>\n",
              "    </tr>\n",
              "    <tr>\n",
              "      <th>mean</th>\n",
              "      <td>326.127564</td>\n",
              "      <td>19435.295718</td>\n",
              "      <td>3.501557</td>\n",
              "      <td>1.205946e+09</td>\n",
              "    </tr>\n",
              "    <tr>\n",
              "      <th>std</th>\n",
              "      <td>182.618491</td>\n",
              "      <td>35530.987199</td>\n",
              "      <td>1.042529</td>\n",
              "      <td>2.162610e+08</td>\n",
              "    </tr>\n",
              "    <tr>\n",
              "      <th>min</th>\n",
              "      <td>1.000000</td>\n",
              "      <td>1.000000</td>\n",
              "      <td>0.500000</td>\n",
              "      <td>8.281246e+08</td>\n",
              "    </tr>\n",
              "    <tr>\n",
              "      <th>25%</th>\n",
              "      <td>177.000000</td>\n",
              "      <td>1199.000000</td>\n",
              "      <td>3.000000</td>\n",
              "      <td>1.019124e+09</td>\n",
              "    </tr>\n",
              "    <tr>\n",
              "      <th>50%</th>\n",
              "      <td>325.000000</td>\n",
              "      <td>2991.000000</td>\n",
              "      <td>3.500000</td>\n",
              "      <td>1.186087e+09</td>\n",
              "    </tr>\n",
              "    <tr>\n",
              "      <th>75%</th>\n",
              "      <td>477.000000</td>\n",
              "      <td>8122.000000</td>\n",
              "      <td>4.000000</td>\n",
              "      <td>1.435994e+09</td>\n",
              "    </tr>\n",
              "    <tr>\n",
              "      <th>max</th>\n",
              "      <td>610.000000</td>\n",
              "      <td>193609.000000</td>\n",
              "      <td>5.000000</td>\n",
              "      <td>1.537799e+09</td>\n",
              "    </tr>\n",
              "  </tbody>\n",
              "</table>\n",
              "</div>"
            ],
            "text/plain": [
              "              userId        movieId         rating     timestamp\n",
              "count  100836.000000  100836.000000  100836.000000  1.008360e+05\n",
              "mean      326.127564   19435.295718       3.501557  1.205946e+09\n",
              "std       182.618491   35530.987199       1.042529  2.162610e+08\n",
              "min         1.000000       1.000000       0.500000  8.281246e+08\n",
              "25%       177.000000    1199.000000       3.000000  1.019124e+09\n",
              "50%       325.000000    2991.000000       3.500000  1.186087e+09\n",
              "75%       477.000000    8122.000000       4.000000  1.435994e+09\n",
              "max       610.000000  193609.000000       5.000000  1.537799e+09"
            ]
          },
          "metadata": {
            "tags": []
          },
          "execution_count": 235
        }
      ]
    },
    {
      "cell_type": "code",
      "metadata": {
        "colab": {
          "base_uri": "https://localhost:8080/"
        },
        "id": "1seOfJzF6KEh",
        "outputId": "6bc4b2d7-5b8e-42f3-e3df-4ca838a81770"
      },
      "source": [
        "# Números dos datasets\r\n",
        "print('Quantidade de Filmes Avaliados: ',\r\n",
        "filmes['movieId'].value_counts().shape[0])\r\n",
        "\r\n",
        "print('Quantidade de Usuários Avaliando: ',\r\n",
        "filmes['userId'].value_counts().shape[0])\r\n",
        "\r\n",
        "print('Quantidade de Avaliações: ',\r\n",
        "ratings.shape[0])"
      ],
      "execution_count": 236,
      "outputs": [
        {
          "output_type": "stream",
          "text": [
            "Quantidade de Filmes Avaliados:  9724\n",
            "Quantidade de Usuários Avaliando:  610\n",
            "Quantidade de Avaliações:  100836\n"
          ],
          "name": "stdout"
        }
      ]
    },
    {
      "cell_type": "code",
      "metadata": {
        "colab": {
          "base_uri": "https://localhost:8080/"
        },
        "id": "-fHqou4l6KH5",
        "outputId": "93c39513-ca68-409d-998d-0b00b53bfef6"
      },
      "source": [
        "# Quantidade de Avaliações TOP5 Filmes\r\n",
        "filmes['title'].value_counts().head()"
      ],
      "execution_count": 237,
      "outputs": [
        {
          "output_type": "execute_result",
          "data": {
            "text/plain": [
              "Forrest Gump (1994)                 329\n",
              "Shawshank Redemption, The (1994)    317\n",
              "Pulp Fiction (1994)                 307\n",
              "Silence of the Lambs, The (1991)    279\n",
              "Matrix, The (1999)                  278\n",
              "Name: title, dtype: int64"
            ]
          },
          "metadata": {
            "tags": []
          },
          "execution_count": 237
        }
      ]
    },
    {
      "cell_type": "code",
      "metadata": {
        "colab": {
          "base_uri": "https://localhost:8080/"
        },
        "id": "D9NMqUKn6KJ9",
        "outputId": "c4b40de6-bc3a-4f69-84cf-22ed1964ac64"
      },
      "source": [
        "# Quantidade de Avaliações LOW5 Filmes\r\n",
        "filmes['title'].value_counts().tail()"
      ],
      "execution_count": 238,
      "outputs": [
        {
          "output_type": "execute_result",
          "data": {
            "text/plain": [
              "Abduction (2011)                             1\n",
              "A Most Wanted Man (2014)                     1\n",
              "Day for Night (La Nuit Américaine) (1973)    1\n",
              "Too Big to Fail (2011)                       1\n",
              "Obsession (1976)                             1\n",
              "Name: title, dtype: int64"
            ]
          },
          "metadata": {
            "tags": []
          },
          "execution_count": 238
        }
      ]
    },
    {
      "cell_type": "code",
      "metadata": {
        "colab": {
          "base_uri": "https://localhost:8080/"
        },
        "id": "bgQvHwq-6KM5",
        "outputId": "a2c7c29c-3774-43b1-d90d-a3c923fe20fd"
      },
      "source": [
        "# Quantidade de Avaliações TOP5 Usuários\r\n",
        "filmes['userId'].value_counts().head()"
      ],
      "execution_count": 239,
      "outputs": [
        {
          "output_type": "execute_result",
          "data": {
            "text/plain": [
              "414    2698\n",
              "599    2478\n",
              "474    2108\n",
              "448    1864\n",
              "274    1346\n",
              "Name: userId, dtype: int64"
            ]
          },
          "metadata": {
            "tags": []
          },
          "execution_count": 239
        }
      ]
    },
    {
      "cell_type": "code",
      "metadata": {
        "colab": {
          "base_uri": "https://localhost:8080/"
        },
        "id": "pW03g4297qXA",
        "outputId": "0d6cdf17-b879-460f-9cbb-f5e6a5de52a4"
      },
      "source": [
        "# Quantidade de Avaliações LOW5 Usuários\r\n",
        "filmes['userId'].value_counts().tail()"
      ],
      "execution_count": 240,
      "outputs": [
        {
          "output_type": "execute_result",
          "data": {
            "text/plain": [
              "406    20\n",
              "595    20\n",
              "569    20\n",
              "431    20\n",
              "442    20\n",
              "Name: userId, dtype: int64"
            ]
          },
          "metadata": {
            "tags": []
          },
          "execution_count": 240
        }
      ]
    },
    {
      "cell_type": "code",
      "metadata": {
        "colab": {
          "base_uri": "https://localhost:8080/",
          "height": 202
        },
        "id": "DWeGsfPZ9B-B",
        "outputId": "b8ef2f7b-d58e-4b1f-8070-9a90166bd52e"
      },
      "source": [
        "# Avaliações do usuário 414\r\n",
        "filmes.query('userId == 414').head()"
      ],
      "execution_count": 241,
      "outputs": [
        {
          "output_type": "execute_result",
          "data": {
            "text/html": [
              "<div>\n",
              "<style scoped>\n",
              "    .dataframe tbody tr th:only-of-type {\n",
              "        vertical-align: middle;\n",
              "    }\n",
              "\n",
              "    .dataframe tbody tr th {\n",
              "        vertical-align: top;\n",
              "    }\n",
              "\n",
              "    .dataframe thead th {\n",
              "        text-align: right;\n",
              "    }\n",
              "</style>\n",
              "<table border=\"1\" class=\"dataframe\">\n",
              "  <thead>\n",
              "    <tr style=\"text-align: right;\">\n",
              "      <th></th>\n",
              "      <th>userId</th>\n",
              "      <th>movieId</th>\n",
              "      <th>rating</th>\n",
              "      <th>timestamp</th>\n",
              "      <th>title</th>\n",
              "      <th>genres</th>\n",
              "    </tr>\n",
              "  </thead>\n",
              "  <tbody>\n",
              "    <tr>\n",
              "      <th>62294</th>\n",
              "      <td>414</td>\n",
              "      <td>1</td>\n",
              "      <td>4.0</td>\n",
              "      <td>961438127</td>\n",
              "      <td>Toy Story (1995)</td>\n",
              "      <td>Adventure|Animation|Children|Comedy|Fantasy</td>\n",
              "    </tr>\n",
              "    <tr>\n",
              "      <th>62295</th>\n",
              "      <td>414</td>\n",
              "      <td>2</td>\n",
              "      <td>3.0</td>\n",
              "      <td>961594981</td>\n",
              "      <td>Jumanji (1995)</td>\n",
              "      <td>Adventure|Children|Fantasy</td>\n",
              "    </tr>\n",
              "    <tr>\n",
              "      <th>62296</th>\n",
              "      <td>414</td>\n",
              "      <td>3</td>\n",
              "      <td>4.0</td>\n",
              "      <td>961439278</td>\n",
              "      <td>Grumpier Old Men (1995)</td>\n",
              "      <td>Comedy|Romance</td>\n",
              "    </tr>\n",
              "    <tr>\n",
              "      <th>62297</th>\n",
              "      <td>414</td>\n",
              "      <td>5</td>\n",
              "      <td>2.0</td>\n",
              "      <td>961437647</td>\n",
              "      <td>Father of the Bride Part II (1995)</td>\n",
              "      <td>Comedy</td>\n",
              "    </tr>\n",
              "    <tr>\n",
              "      <th>62298</th>\n",
              "      <td>414</td>\n",
              "      <td>6</td>\n",
              "      <td>3.0</td>\n",
              "      <td>961515642</td>\n",
              "      <td>Heat (1995)</td>\n",
              "      <td>Action|Crime|Thriller</td>\n",
              "    </tr>\n",
              "  </tbody>\n",
              "</table>\n",
              "</div>"
            ],
            "text/plain": [
              "       userId  ...                                       genres\n",
              "62294     414  ...  Adventure|Animation|Children|Comedy|Fantasy\n",
              "62295     414  ...                   Adventure|Children|Fantasy\n",
              "62296     414  ...                               Comedy|Romance\n",
              "62297     414  ...                                       Comedy\n",
              "62298     414  ...                        Action|Crime|Thriller\n",
              "\n",
              "[5 rows x 6 columns]"
            ]
          },
          "metadata": {
            "tags": []
          },
          "execution_count": 241
        }
      ]
    },
    {
      "cell_type": "code",
      "metadata": {
        "colab": {
          "base_uri": "https://localhost:8080/",
          "height": 79
        },
        "id": "mK4zO_HvMVfx",
        "outputId": "2d650b2c-9dd0-48d1-d3e1-c09ea7c006fe"
      },
      "source": [
        "# Avaliações do usuário 414\r\n",
        "filmes.query('userId == 414 and movieId == 1')"
      ],
      "execution_count": 242,
      "outputs": [
        {
          "output_type": "execute_result",
          "data": {
            "text/html": [
              "<div>\n",
              "<style scoped>\n",
              "    .dataframe tbody tr th:only-of-type {\n",
              "        vertical-align: middle;\n",
              "    }\n",
              "\n",
              "    .dataframe tbody tr th {\n",
              "        vertical-align: top;\n",
              "    }\n",
              "\n",
              "    .dataframe thead th {\n",
              "        text-align: right;\n",
              "    }\n",
              "</style>\n",
              "<table border=\"1\" class=\"dataframe\">\n",
              "  <thead>\n",
              "    <tr style=\"text-align: right;\">\n",
              "      <th></th>\n",
              "      <th>userId</th>\n",
              "      <th>movieId</th>\n",
              "      <th>rating</th>\n",
              "      <th>timestamp</th>\n",
              "      <th>title</th>\n",
              "      <th>genres</th>\n",
              "    </tr>\n",
              "  </thead>\n",
              "  <tbody>\n",
              "    <tr>\n",
              "      <th>62294</th>\n",
              "      <td>414</td>\n",
              "      <td>1</td>\n",
              "      <td>4.0</td>\n",
              "      <td>961438127</td>\n",
              "      <td>Toy Story (1995)</td>\n",
              "      <td>Adventure|Animation|Children|Comedy|Fantasy</td>\n",
              "    </tr>\n",
              "  </tbody>\n",
              "</table>\n",
              "</div>"
            ],
            "text/plain": [
              "       userId  ...                                       genres\n",
              "62294     414  ...  Adventure|Animation|Children|Comedy|Fantasy\n",
              "\n",
              "[1 rows x 6 columns]"
            ]
          },
          "metadata": {
            "tags": []
          },
          "execution_count": 242
        }
      ]
    },
    {
      "cell_type": "markdown",
      "metadata": {
        "id": "9BUBx0BU6Kcp"
      },
      "source": [
        "## 4. Modelo"
      ]
    },
    {
      "cell_type": "code",
      "metadata": {
        "id": "MpnUK5anhV1V"
      },
      "source": [
        "# Configuração para treinamento\n",
        "reader = Reader(rating_scale=(0,5))\n",
        "# Seleção das variáveis para o modelo\n",
        "data = Dataset.load_from_df(ratings[['userId', 'movieId', 'rating']], reader)\n",
        "# Divisão dos dados de treino e teste\n",
        "trainset, testset = train_test_split(data, test_size=.25, random_state=42)"
      ],
      "execution_count": 243,
      "outputs": []
    },
    {
      "cell_type": "code",
      "metadata": {
        "id": "pFX1pXHaiR0d"
      },
      "source": [
        "# Configurações das medidas de similaridade\r\n",
        "sim_options = { 'name': 'pearson_baseline', 'user_based': True }"
      ],
      "execution_count": 244,
      "outputs": []
    },
    {
      "cell_type": "markdown",
      "metadata": {
        "id": "zbf_fNcFMgok"
      },
      "source": [
        "### 4.1 Treinamento do Modelo"
      ]
    },
    {
      "cell_type": "markdown",
      "metadata": {
        "id": "EAAoT8tW69On"
      },
      "source": [
        "\r\n",
        "Um algoritmo básico que leva em consideração uma classificação de linha de base."
      ]
    },
    {
      "cell_type": "code",
      "metadata": {
        "colab": {
          "base_uri": "https://localhost:8080/"
        },
        "id": "g5lRdBaYYk5j",
        "outputId": "2acd6825-c55a-4621-95e4-a0cd9d68add8"
      },
      "source": [
        "knn = KNNBaseline(k=33, sim_options=sim_options)\r\n",
        "knn.fit(trainset)"
      ],
      "execution_count": 245,
      "outputs": [
        {
          "output_type": "stream",
          "text": [
            "Estimating biases using als...\n",
            "Computing the pearson_baseline similarity matrix...\n",
            "Done computing similarity matrix.\n"
          ],
          "name": "stdout"
        },
        {
          "output_type": "execute_result",
          "data": {
            "text/plain": [
              "<surprise.prediction_algorithms.knns.KNNBaseline at 0x7f224285d240>"
            ]
          },
          "metadata": {
            "tags": []
          },
          "execution_count": 245
        }
      ]
    },
    {
      "cell_type": "markdown",
      "metadata": {
        "id": "utkJy66E6_dY"
      },
      "source": [
        "Um algoritmo simples, mas preciso."
      ]
    },
    {
      "cell_type": "code",
      "metadata": {
        "colab": {
          "base_uri": "https://localhost:8080/"
        },
        "id": "F-IpYbHIYlEs",
        "outputId": "20e07045-92f3-46c1-ac7a-668337977310"
      },
      "source": [
        "slo = SlopeOne()\r\n",
        "slo.fit(trainset)"
      ],
      "execution_count": 246,
      "outputs": [
        {
          "output_type": "execute_result",
          "data": {
            "text/plain": [
              "<surprise.prediction_algorithms.slope_one.SlopeOne at 0x7f224285dd30>"
            ]
          },
          "metadata": {
            "tags": []
          },
          "execution_count": 246
        }
      ]
    },
    {
      "cell_type": "markdown",
      "metadata": {
        "id": "p_GyNy7O7P6f"
      },
      "source": [
        "Um algoritmo baseado em co-clustering. \r\n",
        "Os clusters são atribuídos usando um método de otimização direto, muito parecido com o k-means.\r\n"
      ]
    },
    {
      "cell_type": "code",
      "metadata": {
        "colab": {
          "base_uri": "https://localhost:8080/"
        },
        "id": "uixbIybdYlTv",
        "outputId": "19ed358d-1def-4e4c-fe2f-c48f1717cfc5"
      },
      "source": [
        "co = CoClustering(n_epochs=10, verbose=True, random_state=42)\r\n",
        "co.fit(trainset)"
      ],
      "execution_count": 247,
      "outputs": [
        {
          "output_type": "stream",
          "text": [
            "Processing epoch 0\n",
            "Processing epoch 1\n",
            "Processing epoch 2\n",
            "Processing epoch 3\n",
            "Processing epoch 4\n",
            "Processing epoch 5\n",
            "Processing epoch 6\n",
            "Processing epoch 7\n",
            "Processing epoch 8\n",
            "Processing epoch 9\n"
          ],
          "name": "stdout"
        },
        {
          "output_type": "execute_result",
          "data": {
            "text/plain": [
              "<surprise.prediction_algorithms.co_clustering.CoClustering at 0x7f224285dcf8>"
            ]
          },
          "metadata": {
            "tags": []
          },
          "execution_count": 247
        }
      ]
    },
    {
      "cell_type": "markdown",
      "metadata": {
        "id": "Ty3UNiUwMlaA"
      },
      "source": [
        "### 4.2 Avaliação do Modelo"
      ]
    },
    {
      "cell_type": "markdown",
      "metadata": {
        "id": "TuLjbEhK8F_g"
      },
      "source": [
        "Para avaliar os modelos utilizamos o erro quadrático médio das previsões."
      ]
    },
    {
      "cell_type": "code",
      "metadata": {
        "colab": {
          "base_uri": "https://localhost:8080/"
        },
        "id": "cRbLaV_bl5_H",
        "outputId": "a126bcb0-4f80-43bf-a423-f68a0bab95c4"
      },
      "source": [
        "predictions_knn = knn.test(testset)\r\n",
        "accuracy.rmse(predictions_knn)"
      ],
      "execution_count": 248,
      "outputs": [
        {
          "output_type": "stream",
          "text": [
            "RMSE: 0.8888\n"
          ],
          "name": "stdout"
        },
        {
          "output_type": "execute_result",
          "data": {
            "text/plain": [
              "0.8887723564425568"
            ]
          },
          "metadata": {
            "tags": []
          },
          "execution_count": 248
        }
      ]
    },
    {
      "cell_type": "code",
      "metadata": {
        "colab": {
          "base_uri": "https://localhost:8080/"
        },
        "id": "P1c5tsTLmJAJ",
        "outputId": "f406b4ba-c854-424c-90d6-1df2f4ac44d9"
      },
      "source": [
        "predictions_co = co.test(testset)\r\n",
        "accuracy.rmse(predictions_co)"
      ],
      "execution_count": 249,
      "outputs": [
        {
          "output_type": "stream",
          "text": [
            "RMSE: 0.9534\n"
          ],
          "name": "stdout"
        },
        {
          "output_type": "execute_result",
          "data": {
            "text/plain": [
              "0.953389277913654"
            ]
          },
          "metadata": {
            "tags": []
          },
          "execution_count": 249
        }
      ]
    },
    {
      "cell_type": "code",
      "metadata": {
        "colab": {
          "base_uri": "https://localhost:8080/"
        },
        "id": "EEPd12DomJFk",
        "outputId": "7f829e0a-ca18-4f30-a71c-d386fd72a34c"
      },
      "source": [
        "predictions_slo = slo.test(testset)\r\n",
        "accuracy.rmse(predictions_slo)"
      ],
      "execution_count": 250,
      "outputs": [
        {
          "output_type": "stream",
          "text": [
            "RMSE: 0.9134\n"
          ],
          "name": "stdout"
        },
        {
          "output_type": "execute_result",
          "data": {
            "text/plain": [
              "0.9134291817129228"
            ]
          },
          "metadata": {
            "tags": []
          },
          "execution_count": 250
        }
      ]
    },
    {
      "cell_type": "markdown",
      "metadata": {
        "id": "YRKt-1aUMpnl"
      },
      "source": [
        "### 4.3 Predição do Modelo"
      ]
    },
    {
      "cell_type": "markdown",
      "metadata": {
        "id": "915K2Dzq8NCx"
      },
      "source": [
        "Vamos ver os parâmetros que são atribuidos as predições."
      ]
    },
    {
      "cell_type": "markdown",
      "metadata": {
        "id": "CG4pzxPDn9XL"
      },
      "source": [
        "Parameters:\t\r\n",
        "* uid – The (raw) user id. See this note.\r\n",
        "* iid – The (raw) item id. See this note.\r\n",
        "* r_ui (float) – The true rating rui.\r\n",
        "* est (float) – The estimated rating r^ui.\r\n",
        "* details (dict) – Stores additional details about the prediction that might be useful for later analysis."
      ]
    },
    {
      "cell_type": "code",
      "metadata": {
        "colab": {
          "base_uri": "https://localhost:8080/"
        },
        "id": "KOMMUBkIoOfS",
        "outputId": "29452e9d-dd64-4e35-8904-58d33b73097d"
      },
      "source": [
        "# Predição com os dados de teste\r\n",
        "predictions_co[:5]"
      ],
      "execution_count": 251,
      "outputs": [
        {
          "output_type": "execute_result",
          "data": {
            "text/plain": [
              "[Prediction(uid=50, iid=4282, r_ui=3.5, est=3.502175149086966, details={'was_impossible': False}),\n",
              " Prediction(uid=603, iid=2993, r_ui=3.0, est=3.656574203039672, details={'was_impossible': False}),\n",
              " Prediction(uid=140, iid=11, r_ui=4.0, est=3.7622324437457833, details={'was_impossible': False}),\n",
              " Prediction(uid=262, iid=497, r_ui=4.0, est=3.7268674304003677, details={'was_impossible': False}),\n",
              " Prediction(uid=492, iid=1363, r_ui=4.0, est=3.6653260183725465, details={'was_impossible': False})]"
            ]
          },
          "metadata": {
            "tags": []
          },
          "execution_count": 251
        }
      ]
    },
    {
      "cell_type": "markdown",
      "metadata": {
        "id": "bXj7bNvT8qUl"
      },
      "source": [
        "A função trainset utiliza um id interno para serem utilizados no modelo, eles podem ser obtidos através da função to_inner, e a função to_raw retorna os valores originais."
      ]
    },
    {
      "cell_type": "code",
      "metadata": {
        "colab": {
          "base_uri": "https://localhost:8080/"
        },
        "id": "fk47bl0ZXx0k",
        "outputId": "6d8613a5-1f0f-4cf1-bdcd-adbf845762d9"
      },
      "source": [
        "# uid=247, iid=364 Conversão para o id interno\r\n",
        "print('Conversão Interna')\r\n",
        "print('User:', co.trainset.to_inner_uid(414))\r\n",
        "print('Movie:', co.trainset.to_inner_iid(1))\r\n",
        "\r\n",
        "# uid=247, iid=364 Conversão para o id externo\r\n",
        "print('Conversão Externa')\r\n",
        "print('User:', co.trainset.to_raw_uid( co.trainset.to_inner_uid(414) ))\r\n",
        "print('Movie:', co.trainset.to_raw_iid( co.trainset.to_inner_iid(1) ))"
      ],
      "execution_count": 252,
      "outputs": [
        {
          "output_type": "stream",
          "text": [
            "Conversão Interna\n",
            "User: 21\n",
            "Movie: 287\n",
            "Conversão Externa\n",
            "User: 414\n",
            "Movie: 1\n"
          ],
          "name": "stdout"
        }
      ]
    },
    {
      "cell_type": "markdown",
      "metadata": {
        "id": "ERFTcuD41Bq5"
      },
      "source": [
        "#### 4.3.1. Função Análise de Recomendação"
      ]
    },
    {
      "cell_type": "markdown",
      "metadata": {
        "id": "6TBDEIHN9wqW"
      },
      "source": [
        "Passando um ID de usuário e um ID de um filme, a função vai retornar a Estimativa de Avaliação do usuário para o filme informado. Caso seja um filme já avaliado pelo usuário retorna também a avaliação real."
      ]
    },
    {
      "cell_type": "code",
      "metadata": {
        "id": "yDDsOqkG-2im"
      },
      "source": [
        "def recomenda_filme(userId,movieId):\r\n",
        "  # ID do usuário para predição\r\n",
        "  uid = userId\r\n",
        "  # ID do filme para predição\r\n",
        "  iid = movieId \r\n",
        "  nome_filme = movies.query('movieId == @movieId')['title'].values[0]\r\n",
        "  print('Filme:', nome_filme)\r\n",
        "  print('Usuário:', userId)\r\n",
        "  if filmes.query('userId == @userId and movieId == @movieId')['title'].values.size == 0:\r\n",
        "    print('Usuário não avaliou o filme!')\r\n",
        "  else:\r\n",
        "    nota_filme = ratings.query('userId == @userId and movieId == @movieId')['rating'].values[0]\r\n",
        "    print('Avaliação do usuário:', nota_filme)\r\n",
        "  # Predição baseada no melhor modelo\r\n",
        "  print('Estimativa de Avaliação[0-5]:', round(co.predict(co.trainset.to_raw_uid(uid), co.trainset.to_raw_iid(iid))[3], 2))"
      ],
      "execution_count": 253,
      "outputs": []
    },
    {
      "cell_type": "code",
      "metadata": {
        "colab": {
          "base_uri": "https://localhost:8080/"
        },
        "id": "s1LYsIcrOBRj",
        "outputId": "51d74e0a-80e8-40df-f12b-15cbd5561fb7"
      },
      "source": [
        "recomenda_filme(406,1)"
      ],
      "execution_count": 254,
      "outputs": [
        {
          "output_type": "stream",
          "text": [
            "Filme: Toy Story (1995)\n",
            "Usuário: 406\n",
            "Usuário não avaliou o filme!\n",
            "Estimativa de Avaliação[0-5]: 4.17\n"
          ],
          "name": "stdout"
        }
      ]
    },
    {
      "cell_type": "code",
      "metadata": {
        "colab": {
          "base_uri": "https://localhost:8080/"
        },
        "id": "eO1PbeMnArQs",
        "outputId": "a3105b14-ce75-4a95-d8e3-8169a47ad4b9"
      },
      "source": [
        "recomenda_filme(414,1) "
      ],
      "execution_count": 255,
      "outputs": [
        {
          "output_type": "stream",
          "text": [
            "Filme: Toy Story (1995)\n",
            "Usuário: 414\n",
            "Avaliação do usuário: 4.0\n",
            "Estimativa de Avaliação[0-5]: 4.27\n"
          ],
          "name": "stdout"
        }
      ]
    },
    {
      "cell_type": "markdown",
      "metadata": {
        "id": "ziR3l4an1SJO"
      },
      "source": [
        "#### 4.3.2. Função TOP Recomendações"
      ]
    },
    {
      "cell_type": "markdown",
      "metadata": {
        "id": "OViXNSVt-IO8"
      },
      "source": [
        "Passando um ID de usuário e a quantidade de recomendações, a função informa em ordem de recomendação os filmes para o usuário informado."
      ]
    },
    {
      "cell_type": "code",
      "metadata": {
        "id": "VoOS2t0tdtEz"
      },
      "source": [
        "def top_n(userId,n):\r\n",
        "  # Selecionando apenas os filmes do treinamento\r\n",
        "  lista_filmes_treino = []\r\n",
        "  for x in trainset.all_items():\r\n",
        "    lista_filmes_treino.append(trainset.to_raw_iid(x))\r\n",
        "  # Selecionando os filmes do treinamento que o usuário não avaliou\r\n",
        "  filmes_user = ratings.query('userId == @userId')['movieId'].values\r\n",
        "  filmes_user_nao = movies.query('movieId not in @filmes_user')\r\n",
        "  filmes_user_nao = filmes_user_nao.query('movieId in @lista_filmes_treino')['movieId'].values\r\n",
        "  # Criando um ranking para o usuário para os filmes não avaliados\r\n",
        "  ranking=[]\r\n",
        "  for movieId in filmes_user_nao:\r\n",
        "    ranking.append((movieId, co.predict(co.trainset.to_inner_uid(userId), co.trainset.to_inner_iid(movieId))[3]))\r\n",
        "  # Ordenando os TOP filmes avaliados\r\n",
        "  ranking.sort(key=lambda x: x[1], reverse=True)\r\n",
        "  # Selecionando os Ids dos filmes\r\n",
        "  x,_ = zip(*ranking[:n])\r\n",
        "  # Listando os nomes dos filmes em ordem de recomendação\r\n",
        "  return movies.query('movieId in @x')['title'].copy().reset_index(drop=True)"
      ],
      "execution_count": 256,
      "outputs": []
    },
    {
      "cell_type": "code",
      "metadata": {
        "colab": {
          "base_uri": "https://localhost:8080/"
        },
        "id": "gj9ENsZ7hZHt",
        "outputId": "259ec121-4143-480f-d5dc-2c163391d568"
      },
      "source": [
        "top_n(414,5)"
      ],
      "execution_count": 257,
      "outputs": [
        {
          "output_type": "execute_result",
          "data": {
            "text/plain": [
              "0                     Missing (1982)\n",
              "1                    Paradise (1982)\n",
              "2                Little Women (1949)\n",
              "3               Warriors, The (1979)\n",
              "4    Silence, The (Tystnaden) (1963)\n",
              "Name: title, dtype: object"
            ]
          },
          "metadata": {
            "tags": []
          },
          "execution_count": 257
        }
      ]
    },
    {
      "cell_type": "code",
      "metadata": {
        "colab": {
          "base_uri": "https://localhost:8080/"
        },
        "id": "ANPv4CTBuiaz",
        "outputId": "6c6f565e-c69b-4d38-a44f-fed422f4fc9c"
      },
      "source": [
        "top_n(406,5)"
      ],
      "execution_count": 258,
      "outputs": [
        {
          "output_type": "execute_result",
          "data": {
            "text/plain": [
              "0    When Night Is Falling (1995)\n",
              "1         Mighty Aphrodite (1995)\n",
              "2          Misérables, Les (1995)\n",
              "3             Crimson Tide (1995)\n",
              "4               Waterworld (1995)\n",
              "Name: title, dtype: object"
            ]
          },
          "metadata": {
            "tags": []
          },
          "execution_count": 258
        }
      ]
    }
  ]
}