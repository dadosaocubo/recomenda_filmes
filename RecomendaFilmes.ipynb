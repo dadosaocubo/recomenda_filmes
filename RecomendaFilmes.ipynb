{
  "nbformat": 4,
  "nbformat_minor": 0,
  "metadata": {
    "colab": {
      "name": "Surprise.ipynb",
      "provenance": [],
      "collapsed_sections": [],
      "toc_visible": true
    },
    "kernelspec": {
      "name": "python3",
      "display_name": "Python 3"
    }
  },
  "cells": [
    {
      "cell_type": "markdown",
      "metadata": {
        "id": "zUw7Nl6p4SWq"
      },
      "source": [
        "# Recomendação de Filmes"
      ]
    },
    {
      "cell_type": "markdown",
      "metadata": {
        "id": "ABu6sRBM4aie"
      },
      "source": [
        "Como recomendar filmes para usuários de uma plataforma, a Filmes ao Cubo (o Netflix do Dados ao Cubo). Na Filmes ao Cubo, o usuário pode avaliar os filmes com uma nota de 0 a 5, qualquer semelhança com outras plataformas é mera coincidência. Portanto, como sugerir novos filmes para o usuário baseado nas suas experiências e dos outros usuários?\r\n",
        "\r\n",
        "Para isso vamos usar o dataset do [MovieLens Latest Datasets](https://grouplens.org/datasets/movielens/), com 100k avaliações de 600 usuários em 9k filmes.\r\n",
        "A recomendação de filmes é algo comum encontrado nas plataformas de streaming, mas os sistemas de recomendações no geral estão presentes em muitas outras aplicações. Agora, chega de conversa fiada e vamos ao que interessa. Let’s CODE Dados ao Cubo!"
      ]
    },
    {
      "cell_type": "markdown",
      "metadata": {
        "id": "MI2lb6-t4aqj"
      },
      "source": [
        "## 1. Importando as Bibliotecas"
      ]
    },
    {
      "cell_type": "markdown",
      "metadata": {
        "id": "leXpRhF_3f54"
      },
      "source": [
        "Vamos começar instalando a biblioteca surprise."
      ]
    },
    {
      "cell_type": "code",
      "metadata": {
        "colab": {
          "base_uri": "https://localhost:8080/"
        },
        "id": "6f55aYyvSCzx",
        "outputId": "04375339-c232-49c9-fb0d-e56e9c9c9650"
      },
      "source": [
        "!pip install surprise"
      ],
      "execution_count": 1,
      "outputs": [
        {
          "output_type": "stream",
          "text": [
            "Collecting surprise\n",
            "  Downloading https://files.pythonhosted.org/packages/61/de/e5cba8682201fcf9c3719a6fdda95693468ed061945493dea2dd37c5618b/surprise-0.1-py2.py3-none-any.whl\n",
            "Collecting scikit-surprise\n",
            "\u001b[?25l  Downloading https://files.pythonhosted.org/packages/97/37/5d334adaf5ddd65da99fc65f6507e0e4599d092ba048f4302fe8775619e8/scikit-surprise-1.1.1.tar.gz (11.8MB)\n",
            "\u001b[K     |████████████████████████████████| 11.8MB 266kB/s \n",
            "\u001b[?25hRequirement already satisfied: joblib>=0.11 in /usr/local/lib/python3.6/dist-packages (from scikit-surprise->surprise) (0.17.0)\n",
            "Requirement already satisfied: numpy>=1.11.2 in /usr/local/lib/python3.6/dist-packages (from scikit-surprise->surprise) (1.18.5)\n",
            "Requirement already satisfied: scipy>=1.0.0 in /usr/local/lib/python3.6/dist-packages (from scikit-surprise->surprise) (1.4.1)\n",
            "Requirement already satisfied: six>=1.10.0 in /usr/local/lib/python3.6/dist-packages (from scikit-surprise->surprise) (1.15.0)\n",
            "Building wheels for collected packages: scikit-surprise\n",
            "  Building wheel for scikit-surprise (setup.py) ... \u001b[?25l\u001b[?25hdone\n",
            "  Created wheel for scikit-surprise: filename=scikit_surprise-1.1.1-cp36-cp36m-linux_x86_64.whl size=1670902 sha256=cc6d06cba06796884c451f9300a1b24904ad3f55bdc4aee87f1e385380c6158c\n",
            "  Stored in directory: /root/.cache/pip/wheels/78/9c/3d/41b419c9d2aff5b6e2b4c0fc8d25c538202834058f9ed110d0\n",
            "Successfully built scikit-surprise\n",
            "Installing collected packages: scikit-surprise, surprise\n",
            "Successfully installed scikit-surprise-1.1.1 surprise-0.1\n"
          ],
          "name": "stdout"
        }
      ]
    },
    {
      "cell_type": "markdown",
      "metadata": {
        "id": "DtiXeJu93nEu"
      },
      "source": [
        "Agora podemos importar todos os pacotes q vamos utilizar."
      ]
    },
    {
      "cell_type": "code",
      "metadata": {
        "id": "85YmrqkLgGqR"
      },
      "source": [
        "import pandas as pd\n",
        "from surprise import Reader, Dataset\n",
        "from surprise.prediction_algorithms.knns import KNNBaseline\n",
        "from surprise.model_selection import train_test_split\n",
        "from surprise.prediction_algorithms.slope_one import SlopeOne\n",
        "from surprise.prediction_algorithms.co_clustering import CoClustering\n",
        "from surprise import accuracy"
      ],
      "execution_count": 2,
      "outputs": []
    },
    {
      "cell_type": "markdown",
      "metadata": {
        "id": "IB_U66i44hJA"
      },
      "source": [
        "## 2. Carregando Dados"
      ]
    },
    {
      "cell_type": "markdown",
      "metadata": {
        "id": "rKhJnXzE3tWQ"
      },
      "source": [
        "Vamos carregar todas as nossas base de dados."
      ]
    },
    {
      "cell_type": "code",
      "metadata": {
        "colab": {
          "base_uri": "https://localhost:8080/",
          "height": 110
        },
        "id": "Y02C53OkSbxN",
        "outputId": "90cebd50-79fe-402a-cc06-dd4b951f3ebb"
      },
      "source": [
        "# Dataset com o detalhe dos Filmes\r\n",
        "movies = pd.read_csv('https://raw.githubusercontent.com/dadosaocubo/recomenda_filmes/main/data/movies.csv')\r\n",
        "movies.head(2)"
      ],
      "execution_count": 3,
      "outputs": [
        {
          "output_type": "execute_result",
          "data": {
            "text/html": [
              "<div>\n",
              "<style scoped>\n",
              "    .dataframe tbody tr th:only-of-type {\n",
              "        vertical-align: middle;\n",
              "    }\n",
              "\n",
              "    .dataframe tbody tr th {\n",
              "        vertical-align: top;\n",
              "    }\n",
              "\n",
              "    .dataframe thead th {\n",
              "        text-align: right;\n",
              "    }\n",
              "</style>\n",
              "<table border=\"1\" class=\"dataframe\">\n",
              "  <thead>\n",
              "    <tr style=\"text-align: right;\">\n",
              "      <th></th>\n",
              "      <th>movieId</th>\n",
              "      <th>title</th>\n",
              "      <th>genres</th>\n",
              "    </tr>\n",
              "  </thead>\n",
              "  <tbody>\n",
              "    <tr>\n",
              "      <th>0</th>\n",
              "      <td>1</td>\n",
              "      <td>Toy Story (1995)</td>\n",
              "      <td>Adventure|Animation|Children|Comedy|Fantasy</td>\n",
              "    </tr>\n",
              "    <tr>\n",
              "      <th>1</th>\n",
              "      <td>2</td>\n",
              "      <td>Jumanji (1995)</td>\n",
              "      <td>Adventure|Children|Fantasy</td>\n",
              "    </tr>\n",
              "  </tbody>\n",
              "</table>\n",
              "</div>"
            ],
            "text/plain": [
              "   movieId             title                                       genres\n",
              "0        1  Toy Story (1995)  Adventure|Animation|Children|Comedy|Fantasy\n",
              "1        2    Jumanji (1995)                   Adventure|Children|Fantasy"
            ]
          },
          "metadata": {
            "tags": []
          },
          "execution_count": 3
        }
      ]
    },
    {
      "cell_type": "code",
      "metadata": {
        "colab": {
          "base_uri": "https://localhost:8080/",
          "height": 110
        },
        "id": "JFiVbSzgWfsi",
        "outputId": "0a7b0f5a-36fa-46be-b1e3-4324d31f99bd"
      },
      "source": [
        "# Dataset com as avaliações\r\n",
        "ratings = pd.read_csv('https://raw.githubusercontent.com/dadosaocubo/recomenda_filmes/main/data/ratings.csv')\r\n",
        "ratings.head(2)"
      ],
      "execution_count": 4,
      "outputs": [
        {
          "output_type": "execute_result",
          "data": {
            "text/html": [
              "<div>\n",
              "<style scoped>\n",
              "    .dataframe tbody tr th:only-of-type {\n",
              "        vertical-align: middle;\n",
              "    }\n",
              "\n",
              "    .dataframe tbody tr th {\n",
              "        vertical-align: top;\n",
              "    }\n",
              "\n",
              "    .dataframe thead th {\n",
              "        text-align: right;\n",
              "    }\n",
              "</style>\n",
              "<table border=\"1\" class=\"dataframe\">\n",
              "  <thead>\n",
              "    <tr style=\"text-align: right;\">\n",
              "      <th></th>\n",
              "      <th>userId</th>\n",
              "      <th>movieId</th>\n",
              "      <th>rating</th>\n",
              "      <th>timestamp</th>\n",
              "    </tr>\n",
              "  </thead>\n",
              "  <tbody>\n",
              "    <tr>\n",
              "      <th>0</th>\n",
              "      <td>1</td>\n",
              "      <td>1</td>\n",
              "      <td>4.0</td>\n",
              "      <td>964982703</td>\n",
              "    </tr>\n",
              "    <tr>\n",
              "      <th>1</th>\n",
              "      <td>1</td>\n",
              "      <td>3</td>\n",
              "      <td>4.0</td>\n",
              "      <td>964981247</td>\n",
              "    </tr>\n",
              "  </tbody>\n",
              "</table>\n",
              "</div>"
            ],
            "text/plain": [
              "   userId  movieId  rating  timestamp\n",
              "0       1        1     4.0  964982703\n",
              "1       1        3     4.0  964981247"
            ]
          },
          "metadata": {
            "tags": []
          },
          "execution_count": 4
        }
      ]
    },
    {
      "cell_type": "markdown",
      "metadata": {
        "id": "u1qMCzBD4lLq"
      },
      "source": [
        "## 3. EDA"
      ]
    },
    {
      "cell_type": "markdown",
      "metadata": {
        "id": "CYBEXSB23zP5"
      },
      "source": [
        "Agora vamos dar uma analisada nos dados que temos. Sigamos com a nossa Análise Exploratória dos Dados."
      ]
    },
    {
      "cell_type": "code",
      "metadata": {
        "id": "GX1bMh7p73ws"
      },
      "source": [
        "# Juntando as informações de filmes e avaliações\r\n",
        "filmes = ratings.join(movies.set_index('movieId'), on='movieId')"
      ],
      "execution_count": 5,
      "outputs": []
    },
    {
      "cell_type": "code",
      "metadata": {
        "id": "AFM2vjsRh3ru",
        "colab": {
          "base_uri": "https://localhost:8080/"
        },
        "outputId": "b71a8441-2078-4794-ad5b-d7b7756c06cb"
      },
      "source": [
        "print('Tamanho da Base de Filmes: ', filmes.shape)"
      ],
      "execution_count": 6,
      "outputs": [
        {
          "output_type": "stream",
          "text": [
            "Tamanho da Base de Filmes:  (100836, 6)\n"
          ],
          "name": "stdout"
        }
      ]
    },
    {
      "cell_type": "code",
      "metadata": {
        "colab": {
          "base_uri": "https://localhost:8080/",
          "height": 294
        },
        "id": "YFrXkOSFKsyD",
        "outputId": "58a26fa9-e2e1-4b12-b39f-3d2e28a62f77"
      },
      "source": [
        "filmes.describe()"
      ],
      "execution_count": 7,
      "outputs": [
        {
          "output_type": "execute_result",
          "data": {
            "text/html": [
              "<div>\n",
              "<style scoped>\n",
              "    .dataframe tbody tr th:only-of-type {\n",
              "        vertical-align: middle;\n",
              "    }\n",
              "\n",
              "    .dataframe tbody tr th {\n",
              "        vertical-align: top;\n",
              "    }\n",
              "\n",
              "    .dataframe thead th {\n",
              "        text-align: right;\n",
              "    }\n",
              "</style>\n",
              "<table border=\"1\" class=\"dataframe\">\n",
              "  <thead>\n",
              "    <tr style=\"text-align: right;\">\n",
              "      <th></th>\n",
              "      <th>userId</th>\n",
              "      <th>movieId</th>\n",
              "      <th>rating</th>\n",
              "      <th>timestamp</th>\n",
              "    </tr>\n",
              "  </thead>\n",
              "  <tbody>\n",
              "    <tr>\n",
              "      <th>count</th>\n",
              "      <td>100836.000000</td>\n",
              "      <td>100836.000000</td>\n",
              "      <td>100836.000000</td>\n",
              "      <td>1.008360e+05</td>\n",
              "    </tr>\n",
              "    <tr>\n",
              "      <th>mean</th>\n",
              "      <td>326.127564</td>\n",
              "      <td>19435.295718</td>\n",
              "      <td>3.501557</td>\n",
              "      <td>1.205946e+09</td>\n",
              "    </tr>\n",
              "    <tr>\n",
              "      <th>std</th>\n",
              "      <td>182.618491</td>\n",
              "      <td>35530.987199</td>\n",
              "      <td>1.042529</td>\n",
              "      <td>2.162610e+08</td>\n",
              "    </tr>\n",
              "    <tr>\n",
              "      <th>min</th>\n",
              "      <td>1.000000</td>\n",
              "      <td>1.000000</td>\n",
              "      <td>0.500000</td>\n",
              "      <td>8.281246e+08</td>\n",
              "    </tr>\n",
              "    <tr>\n",
              "      <th>25%</th>\n",
              "      <td>177.000000</td>\n",
              "      <td>1199.000000</td>\n",
              "      <td>3.000000</td>\n",
              "      <td>1.019124e+09</td>\n",
              "    </tr>\n",
              "    <tr>\n",
              "      <th>50%</th>\n",
              "      <td>325.000000</td>\n",
              "      <td>2991.000000</td>\n",
              "      <td>3.500000</td>\n",
              "      <td>1.186087e+09</td>\n",
              "    </tr>\n",
              "    <tr>\n",
              "      <th>75%</th>\n",
              "      <td>477.000000</td>\n",
              "      <td>8122.000000</td>\n",
              "      <td>4.000000</td>\n",
              "      <td>1.435994e+09</td>\n",
              "    </tr>\n",
              "    <tr>\n",
              "      <th>max</th>\n",
              "      <td>610.000000</td>\n",
              "      <td>193609.000000</td>\n",
              "      <td>5.000000</td>\n",
              "      <td>1.537799e+09</td>\n",
              "    </tr>\n",
              "  </tbody>\n",
              "</table>\n",
              "</div>"
            ],
            "text/plain": [
              "              userId        movieId         rating     timestamp\n",
              "count  100836.000000  100836.000000  100836.000000  1.008360e+05\n",
              "mean      326.127564   19435.295718       3.501557  1.205946e+09\n",
              "std       182.618491   35530.987199       1.042529  2.162610e+08\n",
              "min         1.000000       1.000000       0.500000  8.281246e+08\n",
              "25%       177.000000    1199.000000       3.000000  1.019124e+09\n",
              "50%       325.000000    2991.000000       3.500000  1.186087e+09\n",
              "75%       477.000000    8122.000000       4.000000  1.435994e+09\n",
              "max       610.000000  193609.000000       5.000000  1.537799e+09"
            ]
          },
          "metadata": {
            "tags": []
          },
          "execution_count": 7
        }
      ]
    },
    {
      "cell_type": "code",
      "metadata": {
        "colab": {
          "base_uri": "https://localhost:8080/"
        },
        "id": "1seOfJzF6KEh",
        "outputId": "7a1775db-20a9-4b20-dd13-ee0091a19c66"
      },
      "source": [
        "# Números dos datasets\r\n",
        "print('Quantidade de Filmes Avaliados: ',\r\n",
        "filmes['movieId'].value_counts().shape[0])\r\n",
        "\r\n",
        "print('Quantidade de Usuários Avaliando: ',\r\n",
        "filmes['userId'].value_counts().shape[0])\r\n",
        "\r\n",
        "print('Quantidade de Avaliações: ',\r\n",
        "ratings.shape[0])"
      ],
      "execution_count": 8,
      "outputs": [
        {
          "output_type": "stream",
          "text": [
            "Quantidade de Filmes Avaliados:  9724\n",
            "Quantidade de Usuários Avaliando:  610\n",
            "Quantidade de Avaliações:  100836\n"
          ],
          "name": "stdout"
        }
      ]
    },
    {
      "cell_type": "code",
      "metadata": {
        "colab": {
          "base_uri": "https://localhost:8080/"
        },
        "id": "-fHqou4l6KH5",
        "outputId": "582f6f7a-ce76-40a5-d705-018240806398"
      },
      "source": [
        "# Quantidade de Avaliações TOP5 Filmes\r\n",
        "filmes['title'].value_counts().head()"
      ],
      "execution_count": 9,
      "outputs": [
        {
          "output_type": "execute_result",
          "data": {
            "text/plain": [
              "Forrest Gump (1994)                 329\n",
              "Shawshank Redemption, The (1994)    317\n",
              "Pulp Fiction (1994)                 307\n",
              "Silence of the Lambs, The (1991)    279\n",
              "Matrix, The (1999)                  278\n",
              "Name: title, dtype: int64"
            ]
          },
          "metadata": {
            "tags": []
          },
          "execution_count": 9
        }
      ]
    },
    {
      "cell_type": "code",
      "metadata": {
        "colab": {
          "base_uri": "https://localhost:8080/"
        },
        "id": "D9NMqUKn6KJ9",
        "outputId": "d8349521-ff12-4253-c4dd-1c771104cebe"
      },
      "source": [
        "# Quantidade de Avaliações LOW5 Filmes\r\n",
        "filmes['title'].value_counts().tail()"
      ],
      "execution_count": 10,
      "outputs": [
        {
          "output_type": "execute_result",
          "data": {
            "text/plain": [
              "Clockwise (1986)                                               1\n",
              "Zelary (2003)                                                  1\n",
              "Sightseers (2012)                                              1\n",
              "Protector, The (a.k.a. Warrior King) (Tom yum goong) (2005)    1\n",
              "Paradise Lost 3: Purgatory (2011)                              1\n",
              "Name: title, dtype: int64"
            ]
          },
          "metadata": {
            "tags": []
          },
          "execution_count": 10
        }
      ]
    },
    {
      "cell_type": "code",
      "metadata": {
        "colab": {
          "base_uri": "https://localhost:8080/"
        },
        "id": "bgQvHwq-6KM5",
        "outputId": "88bceaaf-162d-4c86-d6ad-8396d1462631"
      },
      "source": [
        "# Quantidade de Avaliações TOP5 Usuários\r\n",
        "filmes['userId'].value_counts().head()"
      ],
      "execution_count": 11,
      "outputs": [
        {
          "output_type": "execute_result",
          "data": {
            "text/plain": [
              "414    2698\n",
              "599    2478\n",
              "474    2108\n",
              "448    1864\n",
              "274    1346\n",
              "Name: userId, dtype: int64"
            ]
          },
          "metadata": {
            "tags": []
          },
          "execution_count": 11
        }
      ]
    },
    {
      "cell_type": "code",
      "metadata": {
        "colab": {
          "base_uri": "https://localhost:8080/"
        },
        "id": "pW03g4297qXA",
        "outputId": "c88e0367-fc48-4a2e-baac-05744b2246f3"
      },
      "source": [
        "# Quantidade de Avaliações LOW5 Usuários\r\n",
        "filmes['userId'].value_counts().tail()"
      ],
      "execution_count": 12,
      "outputs": [
        {
          "output_type": "execute_result",
          "data": {
            "text/plain": [
              "406    20\n",
              "595    20\n",
              "569    20\n",
              "431    20\n",
              "442    20\n",
              "Name: userId, dtype: int64"
            ]
          },
          "metadata": {
            "tags": []
          },
          "execution_count": 12
        }
      ]
    },
    {
      "cell_type": "code",
      "metadata": {
        "colab": {
          "base_uri": "https://localhost:8080/",
          "height": 202
        },
        "id": "DWeGsfPZ9B-B",
        "outputId": "92f35beb-94bb-4af2-8a77-b0842c18b001"
      },
      "source": [
        "# Avaliações do usuário 414\r\n",
        "filmes.query('userId == 274').head()"
      ],
      "execution_count": 13,
      "outputs": [
        {
          "output_type": "execute_result",
          "data": {
            "text/html": [
              "<div>\n",
              "<style scoped>\n",
              "    .dataframe tbody tr th:only-of-type {\n",
              "        vertical-align: middle;\n",
              "    }\n",
              "\n",
              "    .dataframe tbody tr th {\n",
              "        vertical-align: top;\n",
              "    }\n",
              "\n",
              "    .dataframe thead th {\n",
              "        text-align: right;\n",
              "    }\n",
              "</style>\n",
              "<table border=\"1\" class=\"dataframe\">\n",
              "  <thead>\n",
              "    <tr style=\"text-align: right;\">\n",
              "      <th></th>\n",
              "      <th>userId</th>\n",
              "      <th>movieId</th>\n",
              "      <th>rating</th>\n",
              "      <th>timestamp</th>\n",
              "      <th>title</th>\n",
              "      <th>genres</th>\n",
              "    </tr>\n",
              "  </thead>\n",
              "  <tbody>\n",
              "    <tr>\n",
              "      <th>39229</th>\n",
              "      <td>274</td>\n",
              "      <td>1</td>\n",
              "      <td>4.0</td>\n",
              "      <td>1171410158</td>\n",
              "      <td>Toy Story (1995)</td>\n",
              "      <td>Adventure|Animation|Children|Comedy|Fantasy</td>\n",
              "    </tr>\n",
              "    <tr>\n",
              "      <th>39230</th>\n",
              "      <td>274</td>\n",
              "      <td>2</td>\n",
              "      <td>3.5</td>\n",
              "      <td>1171934785</td>\n",
              "      <td>Jumanji (1995)</td>\n",
              "      <td>Adventure|Children|Fantasy</td>\n",
              "    </tr>\n",
              "    <tr>\n",
              "      <th>39231</th>\n",
              "      <td>274</td>\n",
              "      <td>6</td>\n",
              "      <td>4.0</td>\n",
              "      <td>1197022122</td>\n",
              "      <td>Heat (1995)</td>\n",
              "      <td>Action|Crime|Thriller</td>\n",
              "    </tr>\n",
              "    <tr>\n",
              "      <th>39232</th>\n",
              "      <td>274</td>\n",
              "      <td>8</td>\n",
              "      <td>3.0</td>\n",
              "      <td>1172030892</td>\n",
              "      <td>Tom and Huck (1995)</td>\n",
              "      <td>Adventure|Children</td>\n",
              "    </tr>\n",
              "    <tr>\n",
              "      <th>39233</th>\n",
              "      <td>274</td>\n",
              "      <td>10</td>\n",
              "      <td>4.0</td>\n",
              "      <td>1171428459</td>\n",
              "      <td>GoldenEye (1995)</td>\n",
              "      <td>Action|Adventure|Thriller</td>\n",
              "    </tr>\n",
              "  </tbody>\n",
              "</table>\n",
              "</div>"
            ],
            "text/plain": [
              "       userId  ...                                       genres\n",
              "39229     274  ...  Adventure|Animation|Children|Comedy|Fantasy\n",
              "39230     274  ...                   Adventure|Children|Fantasy\n",
              "39231     274  ...                        Action|Crime|Thriller\n",
              "39232     274  ...                           Adventure|Children\n",
              "39233     274  ...                    Action|Adventure|Thriller\n",
              "\n",
              "[5 rows x 6 columns]"
            ]
          },
          "metadata": {
            "tags": []
          },
          "execution_count": 13
        }
      ]
    },
    {
      "cell_type": "code",
      "metadata": {
        "colab": {
          "base_uri": "https://localhost:8080/",
          "height": 79
        },
        "id": "mK4zO_HvMVfx",
        "outputId": "5fdac5ae-03f5-427c-e53c-53fa092044c3"
      },
      "source": [
        "# Avaliações do usuário 414\r\n",
        "filmes.query('userId == 274 and movieId == 1')"
      ],
      "execution_count": 14,
      "outputs": [
        {
          "output_type": "execute_result",
          "data": {
            "text/html": [
              "<div>\n",
              "<style scoped>\n",
              "    .dataframe tbody tr th:only-of-type {\n",
              "        vertical-align: middle;\n",
              "    }\n",
              "\n",
              "    .dataframe tbody tr th {\n",
              "        vertical-align: top;\n",
              "    }\n",
              "\n",
              "    .dataframe thead th {\n",
              "        text-align: right;\n",
              "    }\n",
              "</style>\n",
              "<table border=\"1\" class=\"dataframe\">\n",
              "  <thead>\n",
              "    <tr style=\"text-align: right;\">\n",
              "      <th></th>\n",
              "      <th>userId</th>\n",
              "      <th>movieId</th>\n",
              "      <th>rating</th>\n",
              "      <th>timestamp</th>\n",
              "      <th>title</th>\n",
              "      <th>genres</th>\n",
              "    </tr>\n",
              "  </thead>\n",
              "  <tbody>\n",
              "    <tr>\n",
              "      <th>39229</th>\n",
              "      <td>274</td>\n",
              "      <td>1</td>\n",
              "      <td>4.0</td>\n",
              "      <td>1171410158</td>\n",
              "      <td>Toy Story (1995)</td>\n",
              "      <td>Adventure|Animation|Children|Comedy|Fantasy</td>\n",
              "    </tr>\n",
              "  </tbody>\n",
              "</table>\n",
              "</div>"
            ],
            "text/plain": [
              "       userId  ...                                       genres\n",
              "39229     274  ...  Adventure|Animation|Children|Comedy|Fantasy\n",
              "\n",
              "[1 rows x 6 columns]"
            ]
          },
          "metadata": {
            "tags": []
          },
          "execution_count": 14
        }
      ]
    },
    {
      "cell_type": "markdown",
      "metadata": {
        "id": "9BUBx0BU6Kcp"
      },
      "source": [
        "## 4. Modelo"
      ]
    },
    {
      "cell_type": "code",
      "metadata": {
        "id": "MpnUK5anhV1V"
      },
      "source": [
        "# Configuração para treinamento\n",
        "reader = Reader(rating_scale=(0,5))\n",
        "# Seleção das variáveis para o modelo\n",
        "data = Dataset.load_from_df(ratings[['userId', 'movieId', 'rating']], reader)\n",
        "# Divisão dos dados de treino e teste\n",
        "trainset, testset = train_test_split(data, test_size=.25, random_state=42)"
      ],
      "execution_count": 15,
      "outputs": []
    },
    {
      "cell_type": "code",
      "metadata": {
        "id": "pFX1pXHaiR0d"
      },
      "source": [
        "# Configurações das medidas de similaridade\r\n",
        "sim_options = { 'name': 'pearson_baseline', 'user_based': True }"
      ],
      "execution_count": 16,
      "outputs": []
    },
    {
      "cell_type": "markdown",
      "metadata": {
        "id": "zbf_fNcFMgok"
      },
      "source": [
        "### 4.1 Treinamento do Modelo"
      ]
    },
    {
      "cell_type": "markdown",
      "metadata": {
        "id": "EAAoT8tW69On"
      },
      "source": [
        "\r\n",
        "Um algoritmo básico que leva em consideração uma classificação de linha de base."
      ]
    },
    {
      "cell_type": "code",
      "metadata": {
        "colab": {
          "base_uri": "https://localhost:8080/"
        },
        "id": "g5lRdBaYYk5j",
        "outputId": "d1607a65-67a2-45d3-989e-c3b923108cc7"
      },
      "source": [
        "# Criação do modelo\r\n",
        "knn = KNNBaseline(k=33, sim_options=sim_options)\r\n",
        "# Treinamento do modelo\r\n",
        "knn.fit(trainset)"
      ],
      "execution_count": 17,
      "outputs": [
        {
          "output_type": "stream",
          "text": [
            "Estimating biases using als...\n",
            "Computing the pearson_baseline similarity matrix...\n",
            "Done computing similarity matrix.\n"
          ],
          "name": "stdout"
        },
        {
          "output_type": "execute_result",
          "data": {
            "text/plain": [
              "<surprise.prediction_algorithms.knns.KNNBaseline at 0x7f8b69083320>"
            ]
          },
          "metadata": {
            "tags": []
          },
          "execution_count": 17
        }
      ]
    },
    {
      "cell_type": "markdown",
      "metadata": {
        "id": "utkJy66E6_dY"
      },
      "source": [
        "Um algoritmo simples, mas preciso."
      ]
    },
    {
      "cell_type": "code",
      "metadata": {
        "colab": {
          "base_uri": "https://localhost:8080/"
        },
        "id": "F-IpYbHIYlEs",
        "outputId": "dcfe1738-42fc-4d89-b508-0687706bb8b8"
      },
      "source": [
        "# Criação do modelo\r\n",
        "slo = SlopeOne()\r\n",
        "# Treinamento do modelo\r\n",
        "slo.fit(trainset)"
      ],
      "execution_count": 18,
      "outputs": [
        {
          "output_type": "execute_result",
          "data": {
            "text/plain": [
              "<surprise.prediction_algorithms.slope_one.SlopeOne at 0x7f8b6703af28>"
            ]
          },
          "metadata": {
            "tags": []
          },
          "execution_count": 18
        }
      ]
    },
    {
      "cell_type": "markdown",
      "metadata": {
        "id": "p_GyNy7O7P6f"
      },
      "source": [
        "Um algoritmo baseado em co-clustering. \r\n",
        "Os clusters são atribuídos usando um método de otimização direta, muito parecido com o k-means.\r\n"
      ]
    },
    {
      "cell_type": "code",
      "metadata": {
        "colab": {
          "base_uri": "https://localhost:8080/"
        },
        "id": "uixbIybdYlTv",
        "outputId": "925a065e-5fce-4bc8-ad48-400636b34fbc"
      },
      "source": [
        "# Criação do modelo\r\n",
        "co = CoClustering(n_epochs=10, verbose=True, random_state=42)\r\n",
        "# Treinamento do modelo\r\n",
        "co.fit(trainset)"
      ],
      "execution_count": 19,
      "outputs": [
        {
          "output_type": "stream",
          "text": [
            "Processing epoch 0\n",
            "Processing epoch 1\n",
            "Processing epoch 2\n",
            "Processing epoch 3\n",
            "Processing epoch 4\n",
            "Processing epoch 5\n",
            "Processing epoch 6\n",
            "Processing epoch 7\n",
            "Processing epoch 8\n",
            "Processing epoch 9\n"
          ],
          "name": "stdout"
        },
        {
          "output_type": "execute_result",
          "data": {
            "text/plain": [
              "<surprise.prediction_algorithms.co_clustering.CoClustering at 0x7f8b66b245c0>"
            ]
          },
          "metadata": {
            "tags": []
          },
          "execution_count": 19
        }
      ]
    },
    {
      "cell_type": "markdown",
      "metadata": {
        "id": "Ty3UNiUwMlaA"
      },
      "source": [
        "### 4.2 Avaliação do Modelo"
      ]
    },
    {
      "cell_type": "markdown",
      "metadata": {
        "id": "TuLjbEhK8F_g"
      },
      "source": [
        "Para avaliar os modelos utilizamos o erro quadrático médio das previsões."
      ]
    },
    {
      "cell_type": "code",
      "metadata": {
        "colab": {
          "base_uri": "https://localhost:8080/"
        },
        "id": "cRbLaV_bl5_H",
        "outputId": "e4f82340-146b-405a-947b-48ff9e2774c2"
      },
      "source": [
        "predictions_knn = knn.test(testset)\r\n",
        "accuracy.rmse(predictions_knn)"
      ],
      "execution_count": 20,
      "outputs": [
        {
          "output_type": "stream",
          "text": [
            "RMSE: 0.8888\n"
          ],
          "name": "stdout"
        },
        {
          "output_type": "execute_result",
          "data": {
            "text/plain": [
              "0.8887723564425568"
            ]
          },
          "metadata": {
            "tags": []
          },
          "execution_count": 20
        }
      ]
    },
    {
      "cell_type": "code",
      "metadata": {
        "colab": {
          "base_uri": "https://localhost:8080/"
        },
        "id": "P1c5tsTLmJAJ",
        "outputId": "c89ff94b-2e21-42ba-d433-4a073be3f163"
      },
      "source": [
        "predictions_slo = slo.test(testset)\r\n",
        "accuracy.rmse(predictions_slo)"
      ],
      "execution_count": 21,
      "outputs": [
        {
          "output_type": "stream",
          "text": [
            "RMSE: 0.9134\n"
          ],
          "name": "stdout"
        },
        {
          "output_type": "execute_result",
          "data": {
            "text/plain": [
              "0.9134291817129228"
            ]
          },
          "metadata": {
            "tags": []
          },
          "execution_count": 21
        }
      ]
    },
    {
      "cell_type": "code",
      "metadata": {
        "colab": {
          "base_uri": "https://localhost:8080/"
        },
        "id": "EEPd12DomJFk",
        "outputId": "a3f5750f-407b-4a39-8051-9f702aa97602"
      },
      "source": [
        "predictions_co = co.test(testset)\r\n",
        "accuracy.rmse(predictions_co)"
      ],
      "execution_count": 22,
      "outputs": [
        {
          "output_type": "stream",
          "text": [
            "RMSE: 0.9534\n"
          ],
          "name": "stdout"
        },
        {
          "output_type": "execute_result",
          "data": {
            "text/plain": [
              "0.953389277913654"
            ]
          },
          "metadata": {
            "tags": []
          },
          "execution_count": 22
        }
      ]
    },
    {
      "cell_type": "markdown",
      "metadata": {
        "id": "YRKt-1aUMpnl"
      },
      "source": [
        "### 4.3 Predição do Modelo"
      ]
    },
    {
      "cell_type": "markdown",
      "metadata": {
        "id": "915K2Dzq8NCx"
      },
      "source": [
        "Vamos ver os parâmetros que são atribuidos as predições."
      ]
    },
    {
      "cell_type": "markdown",
      "metadata": {
        "id": "CG4pzxPDn9XL"
      },
      "source": [
        "Parameters:\t\r\n",
        "* uid – The (raw) user id. See this note.\r\n",
        "* iid – The (raw) item id. See this note.\r\n",
        "* r_ui (float) – The true rating rui.\r\n",
        "* est (float) – The estimated rating r^ui.\r\n",
        "* details (dict) – Stores additional details about the prediction that might be useful for later analysis."
      ]
    },
    {
      "cell_type": "code",
      "metadata": {
        "colab": {
          "base_uri": "https://localhost:8080/"
        },
        "id": "KOMMUBkIoOfS",
        "outputId": "4ed1221e-f126-4745-e5c9-169a365b01ae"
      },
      "source": [
        "# Predição com os dados de teste\r\n",
        "predictions_knn[:5]"
      ],
      "execution_count": 23,
      "outputs": [
        {
          "output_type": "execute_result",
          "data": {
            "text/plain": [
              "[Prediction(uid=50, iid=4282, r_ui=3.5, est=2.6893968587584185, details={'was_impossible': False}),\n",
              " Prediction(uid=603, iid=2993, r_ui=3.0, est=3.1298324602016714, details={'actual_k': 5, 'was_impossible': False}),\n",
              " Prediction(uid=140, iid=11, r_ui=4.0, est=3.680405802104295, details={'actual_k': 32, 'was_impossible': False}),\n",
              " Prediction(uid=262, iid=497, r_ui=4.0, est=3.506174818491485, details={'actual_k': 12, 'was_impossible': False}),\n",
              " Prediction(uid=492, iid=1363, r_ui=4.0, est=3.982283055858682, details={'actual_k': 0, 'was_impossible': False})]"
            ]
          },
          "metadata": {
            "tags": []
          },
          "execution_count": 23
        }
      ]
    },
    {
      "cell_type": "markdown",
      "metadata": {
        "id": "bXj7bNvT8qUl"
      },
      "source": [
        "A função trainset utiliza um id interno para serem utilizados no modelo, eles podem ser obtidos através da função to_inner, e a função to_raw retorna os valores originais."
      ]
    },
    {
      "cell_type": "code",
      "metadata": {
        "colab": {
          "base_uri": "https://localhost:8080/"
        },
        "id": "fk47bl0ZXx0k",
        "outputId": "1f158506-a10f-4db7-ef45-c2ce0a8f65a5"
      },
      "source": [
        "# uid=247, iid=364 Conversão para o id interno\r\n",
        "print('Conversão Interna')\r\n",
        "print('User:', trainset.to_inner_uid(274))\r\n",
        "print('Movie:', trainset.to_inner_iid(1))\r\n",
        "\r\n",
        "# uid=247, iid=364 Conversão para o id externo\r\n",
        "print('Conversão Externa')\r\n",
        "print('User:', trainset.to_raw_uid( trainset.to_inner_uid(274) ))\r\n",
        "print('Movie:', trainset.to_raw_iid( trainset.to_inner_iid(1) ))"
      ],
      "execution_count": 24,
      "outputs": [
        {
          "output_type": "stream",
          "text": [
            "Conversão Interna\n",
            "User: 16\n",
            "Movie: 287\n",
            "Conversão Externa\n",
            "User: 274\n",
            "Movie: 1\n"
          ],
          "name": "stdout"
        }
      ]
    },
    {
      "cell_type": "markdown",
      "metadata": {
        "id": "ERFTcuD41Bq5"
      },
      "source": [
        "#### 4.3.1. Função Análise de Recomendação"
      ]
    },
    {
      "cell_type": "markdown",
      "metadata": {
        "id": "6TBDEIHN9wqW"
      },
      "source": [
        "Passando um ID de usuário e um ID de um filme, a função vai retornar a Estimativa de Avaliação do usuário para o filme informado. Caso seja um filme já avaliado pelo usuário retorna também a avaliação real."
      ]
    },
    {
      "cell_type": "code",
      "metadata": {
        "id": "yDDsOqkG-2im"
      },
      "source": [
        "def recomenda_filme(userId,movieId):\r\n",
        "  # ID do usuário para predição\r\n",
        "  uid = userId\r\n",
        "  # ID do filme para predição\r\n",
        "  iid = movieId \r\n",
        "  nome_filme = movies.query('movieId == @movieId')['title'].values[0]\r\n",
        "  print('Filme:', nome_filme)\r\n",
        "  print('Usuário:', userId)\r\n",
        "  if filmes.query('userId == @userId and movieId == @movieId')['title'].values.size == 0:\r\n",
        "    print('Usuário não avaliou o filme!')\r\n",
        "  else:\r\n",
        "    nota_filme = ratings.query('userId == @userId and movieId == @movieId')['rating'].values[0]\r\n",
        "    print('Avaliação do usuário:', nota_filme)\r\n",
        "  # Predição baseada no melhor modelo\r\n",
        "  print('Estimativa de Avaliação[0-5]:', round(knn.predict(trainset.to_raw_uid(uid), trainset.to_raw_iid(iid))[3], 2))"
      ],
      "execution_count": 25,
      "outputs": []
    },
    {
      "cell_type": "code",
      "metadata": {
        "colab": {
          "base_uri": "https://localhost:8080/"
        },
        "id": "s1LYsIcrOBRj",
        "outputId": "ce155378-a2d4-49c1-9a50-8945c5c2b8b2"
      },
      "source": [
        "recomenda_filme(406,1)"
      ],
      "execution_count": 26,
      "outputs": [
        {
          "output_type": "stream",
          "text": [
            "Filme: Toy Story (1995)\n",
            "Usuário: 406\n",
            "Usuário não avaliou o filme!\n",
            "Estimativa de Avaliação[0-5]: 3.88\n"
          ],
          "name": "stdout"
        }
      ]
    },
    {
      "cell_type": "code",
      "metadata": {
        "colab": {
          "base_uri": "https://localhost:8080/"
        },
        "id": "eO1PbeMnArQs",
        "outputId": "938d5741-8e8f-4945-c500-f3890f46a232"
      },
      "source": [
        "recomenda_filme(274,1) "
      ],
      "execution_count": 27,
      "outputs": [
        {
          "output_type": "stream",
          "text": [
            "Filme: Toy Story (1995)\n",
            "Usuário: 274\n",
            "Avaliação do usuário: 4.0\n",
            "Estimativa de Avaliação[0-5]: 3.32\n"
          ],
          "name": "stdout"
        }
      ]
    },
    {
      "cell_type": "markdown",
      "metadata": {
        "id": "ziR3l4an1SJO"
      },
      "source": [
        "#### 4.3.2. Função TOP Recomendações"
      ]
    },
    {
      "cell_type": "markdown",
      "metadata": {
        "id": "OViXNSVt-IO8"
      },
      "source": [
        "Passando um ID de usuário e a quantidade de recomendações, a função informa em ordem de recomendação os filmes para o usuário informado."
      ]
    },
    {
      "cell_type": "code",
      "metadata": {
        "id": "VoOS2t0tdtEz"
      },
      "source": [
        "def top_n(userId,n):\r\n",
        "  # Selecionando apenas os filmes do treinamento\r\n",
        "  lista_filmes_treino = []\r\n",
        "  for x in trainset.all_items():\r\n",
        "    lista_filmes_treino.append(trainset.to_raw_iid(x))\r\n",
        "  # Selecionando os filmes do treinamento que o usuário não avaliou\r\n",
        "  filmes_user = ratings.query('userId == @userId')['movieId'].values\r\n",
        "  filmes_user_nao = movies.query('movieId not in @filmes_user')\r\n",
        "  filmes_user_nao = filmes_user_nao.query('movieId in @lista_filmes_treino')['movieId'].values\r\n",
        "  # Criando um ranking para o usuário para os filmes não avaliados\r\n",
        "  ranking=[]\r\n",
        "  for movieId in filmes_user_nao:\r\n",
        "    ranking.append((movieId, knn.predict(trainset.to_inner_uid(userId), trainset.to_inner_iid(movieId))[3]))\r\n",
        "  # Ordenando os TOP filmes avaliados\r\n",
        "  ranking.sort(key=lambda x: x[1], reverse=True)\r\n",
        "  # Selecionando os Ids dos filmes\r\n",
        "  x,_ = zip(*ranking[:n])\r\n",
        "  # Listando os nomes dos filmes em ordem de recomendação\r\n",
        "  return movies.query('movieId in @x')['title'].copy().reset_index(drop=True)"
      ],
      "execution_count": 28,
      "outputs": []
    },
    {
      "cell_type": "code",
      "metadata": {
        "colab": {
          "base_uri": "https://localhost:8080/"
        },
        "id": "gj9ENsZ7hZHt",
        "outputId": "bb4ee22e-9d5d-41f7-d0e3-0278e5745ae3"
      },
      "source": [
        "top_n(274,5)"
      ],
      "execution_count": 29,
      "outputs": [
        {
          "output_type": "execute_result",
          "data": {
            "text/plain": [
              "0                         It's My Party (1996)\n",
              "1                    Mark of Zorro, The (1940)\n",
              "2                          Dead Ringers (1988)\n",
              "3                          Chuck & Buck (2000)\n",
              "4    Gross Anatomy (a.k.a. A Cut Above) (1989)\n",
              "Name: title, dtype: object"
            ]
          },
          "metadata": {
            "tags": []
          },
          "execution_count": 29
        }
      ]
    },
    {
      "cell_type": "code",
      "metadata": {
        "colab": {
          "base_uri": "https://localhost:8080/"
        },
        "id": "ANPv4CTBuiaz",
        "outputId": "de2c7d08-3b01-4e52-b7bf-92d26af84db9"
      },
      "source": [
        "top_n(406,5)"
      ],
      "execution_count": 30,
      "outputs": [
        {
          "output_type": "execute_result",
          "data": {
            "text/plain": [
              "0          Get Shorty (1995)\n",
              "1    Mighty Aphrodite (1995)\n",
              "2          Waterworld (1995)\n",
              "3      Before Sunrise (1995)\n",
              "4          Rent-a-Kid (1995)\n",
              "Name: title, dtype: object"
            ]
          },
          "metadata": {
            "tags": []
          },
          "execution_count": 30
        }
      ]
    }
  ]
}