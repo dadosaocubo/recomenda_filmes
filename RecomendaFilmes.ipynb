{
  "nbformat": 4,
  "nbformat_minor": 0,
  "metadata": {
    "colab": {
      "name": "Surprise.ipynb",
      "provenance": [],
      "collapsed_sections": []
    },
    "kernelspec": {
      "name": "python3",
      "display_name": "Python 3"
    }
  },
  "cells": [
    {
      "cell_type": "markdown",
      "metadata": {
        "id": "zUw7Nl6p4SWq"
      },
      "source": [
        "# Recomendação de Filmes"
      ]
    },
    {
      "cell_type": "markdown",
      "metadata": {
        "id": "ABu6sRBM4aie"
      },
      "source": [
        "Vamos utilizar o surprise para resolver um problema de recomendação de filmes, baseado em notas de avaliação dos usuário. O dataset utlizado foi o [MovieLens Latest Datasets](https://grouplens.org/datasets/movielens/), com 100k avaliações de de 600 usários em 9k filmes.\r\n",
        "\r\n",
        "A recomendação de filmes é algo comum encontrado nas plataformas de streaming, mas a recomendação no geral está presente em muitas outras aplicações."
      ]
    },
    {
      "cell_type": "markdown",
      "metadata": {
        "id": "MI2lb6-t4aqj"
      },
      "source": [
        "## 1. Importando as Bibliotecas"
      ]
    },
    {
      "cell_type": "markdown",
      "metadata": {
        "id": "leXpRhF_3f54"
      },
      "source": [
        "Vamos começar instalando a biblioteca surprise."
      ]
    },
    {
      "cell_type": "code",
      "metadata": {
        "colab": {
          "base_uri": "https://localhost:8080/"
        },
        "id": "6f55aYyvSCzx",
        "outputId": "f1805052-5de5-497c-8caf-02fcf00f7ff5"
      },
      "source": [
        "!pip install surprise"
      ],
      "execution_count": 1,
      "outputs": [
        {
          "output_type": "stream",
          "text": [
            "Collecting surprise\n",
            "  Downloading https://files.pythonhosted.org/packages/61/de/e5cba8682201fcf9c3719a6fdda95693468ed061945493dea2dd37c5618b/surprise-0.1-py2.py3-none-any.whl\n",
            "Collecting scikit-surprise\n",
            "\u001b[?25l  Downloading https://files.pythonhosted.org/packages/97/37/5d334adaf5ddd65da99fc65f6507e0e4599d092ba048f4302fe8775619e8/scikit-surprise-1.1.1.tar.gz (11.8MB)\n",
            "\u001b[K     |████████████████████████████████| 11.8MB 6.0MB/s \n",
            "\u001b[?25hRequirement already satisfied: joblib>=0.11 in /usr/local/lib/python3.6/dist-packages (from scikit-surprise->surprise) (0.17.0)\n",
            "Requirement already satisfied: numpy>=1.11.2 in /usr/local/lib/python3.6/dist-packages (from scikit-surprise->surprise) (1.18.5)\n",
            "Requirement already satisfied: scipy>=1.0.0 in /usr/local/lib/python3.6/dist-packages (from scikit-surprise->surprise) (1.4.1)\n",
            "Requirement already satisfied: six>=1.10.0 in /usr/local/lib/python3.6/dist-packages (from scikit-surprise->surprise) (1.15.0)\n",
            "Building wheels for collected packages: scikit-surprise\n",
            "  Building wheel for scikit-surprise (setup.py) ... \u001b[?25l\u001b[?25hdone\n",
            "  Created wheel for scikit-surprise: filename=scikit_surprise-1.1.1-cp36-cp36m-linux_x86_64.whl size=1670946 sha256=2165f2ee6fab94f9ad1916804cb7e16ca88d59ef882eebd3f0cc05809dc8d1b5\n",
            "  Stored in directory: /root/.cache/pip/wheels/78/9c/3d/41b419c9d2aff5b6e2b4c0fc8d25c538202834058f9ed110d0\n",
            "Successfully built scikit-surprise\n",
            "Installing collected packages: scikit-surprise, surprise\n",
            "Successfully installed scikit-surprise-1.1.1 surprise-0.1\n"
          ],
          "name": "stdout"
        }
      ]
    },
    {
      "cell_type": "markdown",
      "metadata": {
        "id": "DtiXeJu93nEu"
      },
      "source": [
        "Agora podemos importar todos os pacotes q vamos utilizar."
      ]
    },
    {
      "cell_type": "code",
      "metadata": {
        "id": "85YmrqkLgGqR"
      },
      "source": [
        "import pandas as pd\n",
        "import numpy as np\n",
        "\n",
        "from surprise import Reader, Dataset\n",
        "from surprise.prediction_algorithms.knns import KNNBaseline\n",
        "from surprise.model_selection import train_test_split\n",
        "from surprise.prediction_algorithms.matrix_factorization import SVDpp\n",
        "from surprise.prediction_algorithms.slope_one import SlopeOne\n",
        "from surprise.prediction_algorithms.co_clustering import CoClustering\n",
        "from surprise import accuracy\n"
      ],
      "execution_count": 2,
      "outputs": []
    },
    {
      "cell_type": "markdown",
      "metadata": {
        "id": "IB_U66i44hJA"
      },
      "source": [
        "## 2. Carregando Dados"
      ]
    },
    {
      "cell_type": "markdown",
      "metadata": {
        "id": "rKhJnXzE3tWQ"
      },
      "source": [
        "Vamos carregar todas as nossas base de dados."
      ]
    },
    {
      "cell_type": "code",
      "metadata": {
        "colab": {
          "base_uri": "https://localhost:8080/",
          "height": 110
        },
        "id": "eQyGl6ecSJ2f",
        "outputId": "300e428f-5fb5-48d4-b0ff-88c2f251fc59"
      },
      "source": [
        "links = pd.read_csv('https://raw.githubusercontent.com/dadosaocubo/recomenda_filmes/main/data/links.csv')\r\n",
        "links.head(2)"
      ],
      "execution_count": 3,
      "outputs": [
        {
          "output_type": "execute_result",
          "data": {
            "text/html": [
              "<div>\n",
              "<style scoped>\n",
              "    .dataframe tbody tr th:only-of-type {\n",
              "        vertical-align: middle;\n",
              "    }\n",
              "\n",
              "    .dataframe tbody tr th {\n",
              "        vertical-align: top;\n",
              "    }\n",
              "\n",
              "    .dataframe thead th {\n",
              "        text-align: right;\n",
              "    }\n",
              "</style>\n",
              "<table border=\"1\" class=\"dataframe\">\n",
              "  <thead>\n",
              "    <tr style=\"text-align: right;\">\n",
              "      <th></th>\n",
              "      <th>movieId</th>\n",
              "      <th>imdbId</th>\n",
              "      <th>tmdbId</th>\n",
              "    </tr>\n",
              "  </thead>\n",
              "  <tbody>\n",
              "    <tr>\n",
              "      <th>0</th>\n",
              "      <td>1</td>\n",
              "      <td>114709</td>\n",
              "      <td>862.0</td>\n",
              "    </tr>\n",
              "    <tr>\n",
              "      <th>1</th>\n",
              "      <td>2</td>\n",
              "      <td>113497</td>\n",
              "      <td>8844.0</td>\n",
              "    </tr>\n",
              "  </tbody>\n",
              "</table>\n",
              "</div>"
            ],
            "text/plain": [
              "   movieId  imdbId  tmdbId\n",
              "0        1  114709   862.0\n",
              "1        2  113497  8844.0"
            ]
          },
          "metadata": {
            "tags": []
          },
          "execution_count": 3
        }
      ]
    },
    {
      "cell_type": "code",
      "metadata": {
        "colab": {
          "base_uri": "https://localhost:8080/",
          "height": 110
        },
        "id": "Y02C53OkSbxN",
        "outputId": "635339ff-a06f-4e04-d6e3-1242c9ec4dc0"
      },
      "source": [
        "movies = pd.read_csv('https://raw.githubusercontent.com/dadosaocubo/recomenda_filmes/main/data/movies.csv')\r\n",
        "movies.head(2)"
      ],
      "execution_count": 4,
      "outputs": [
        {
          "output_type": "execute_result",
          "data": {
            "text/html": [
              "<div>\n",
              "<style scoped>\n",
              "    .dataframe tbody tr th:only-of-type {\n",
              "        vertical-align: middle;\n",
              "    }\n",
              "\n",
              "    .dataframe tbody tr th {\n",
              "        vertical-align: top;\n",
              "    }\n",
              "\n",
              "    .dataframe thead th {\n",
              "        text-align: right;\n",
              "    }\n",
              "</style>\n",
              "<table border=\"1\" class=\"dataframe\">\n",
              "  <thead>\n",
              "    <tr style=\"text-align: right;\">\n",
              "      <th></th>\n",
              "      <th>movieId</th>\n",
              "      <th>title</th>\n",
              "      <th>genres</th>\n",
              "    </tr>\n",
              "  </thead>\n",
              "  <tbody>\n",
              "    <tr>\n",
              "      <th>0</th>\n",
              "      <td>1</td>\n",
              "      <td>Toy Story (1995)</td>\n",
              "      <td>Adventure|Animation|Children|Comedy|Fantasy</td>\n",
              "    </tr>\n",
              "    <tr>\n",
              "      <th>1</th>\n",
              "      <td>2</td>\n",
              "      <td>Jumanji (1995)</td>\n",
              "      <td>Adventure|Children|Fantasy</td>\n",
              "    </tr>\n",
              "  </tbody>\n",
              "</table>\n",
              "</div>"
            ],
            "text/plain": [
              "   movieId             title                                       genres\n",
              "0        1  Toy Story (1995)  Adventure|Animation|Children|Comedy|Fantasy\n",
              "1        2    Jumanji (1995)                   Adventure|Children|Fantasy"
            ]
          },
          "metadata": {
            "tags": []
          },
          "execution_count": 4
        }
      ]
    },
    {
      "cell_type": "code",
      "metadata": {
        "colab": {
          "base_uri": "https://localhost:8080/",
          "height": 110
        },
        "id": "JFiVbSzgWfsi",
        "outputId": "62a3ab32-2869-49a8-e80d-225413b92637"
      },
      "source": [
        "ratings = pd.read_csv('https://raw.githubusercontent.com/dadosaocubo/recomenda_filmes/main/data/ratings.csv')\r\n",
        "ratings.head(2)"
      ],
      "execution_count": 5,
      "outputs": [
        {
          "output_type": "execute_result",
          "data": {
            "text/html": [
              "<div>\n",
              "<style scoped>\n",
              "    .dataframe tbody tr th:only-of-type {\n",
              "        vertical-align: middle;\n",
              "    }\n",
              "\n",
              "    .dataframe tbody tr th {\n",
              "        vertical-align: top;\n",
              "    }\n",
              "\n",
              "    .dataframe thead th {\n",
              "        text-align: right;\n",
              "    }\n",
              "</style>\n",
              "<table border=\"1\" class=\"dataframe\">\n",
              "  <thead>\n",
              "    <tr style=\"text-align: right;\">\n",
              "      <th></th>\n",
              "      <th>userId</th>\n",
              "      <th>movieId</th>\n",
              "      <th>rating</th>\n",
              "      <th>timestamp</th>\n",
              "    </tr>\n",
              "  </thead>\n",
              "  <tbody>\n",
              "    <tr>\n",
              "      <th>0</th>\n",
              "      <td>1</td>\n",
              "      <td>1</td>\n",
              "      <td>4.0</td>\n",
              "      <td>964982703</td>\n",
              "    </tr>\n",
              "    <tr>\n",
              "      <th>1</th>\n",
              "      <td>1</td>\n",
              "      <td>3</td>\n",
              "      <td>4.0</td>\n",
              "      <td>964981247</td>\n",
              "    </tr>\n",
              "  </tbody>\n",
              "</table>\n",
              "</div>"
            ],
            "text/plain": [
              "   userId  movieId  rating  timestamp\n",
              "0       1        1     4.0  964982703\n",
              "1       1        3     4.0  964981247"
            ]
          },
          "metadata": {
            "tags": []
          },
          "execution_count": 5
        }
      ]
    },
    {
      "cell_type": "code",
      "metadata": {
        "colab": {
          "base_uri": "https://localhost:8080/",
          "height": 110
        },
        "id": "b75l3qH8Wgpw",
        "outputId": "99bc7763-9b3c-4de6-ab68-73df3236385e"
      },
      "source": [
        "tags = pd.read_csv('https://raw.githubusercontent.com/dadosaocubo/recomenda_filmes/main/data/tags.csv')\r\n",
        "tags.head(2)"
      ],
      "execution_count": 6,
      "outputs": [
        {
          "output_type": "execute_result",
          "data": {
            "text/html": [
              "<div>\n",
              "<style scoped>\n",
              "    .dataframe tbody tr th:only-of-type {\n",
              "        vertical-align: middle;\n",
              "    }\n",
              "\n",
              "    .dataframe tbody tr th {\n",
              "        vertical-align: top;\n",
              "    }\n",
              "\n",
              "    .dataframe thead th {\n",
              "        text-align: right;\n",
              "    }\n",
              "</style>\n",
              "<table border=\"1\" class=\"dataframe\">\n",
              "  <thead>\n",
              "    <tr style=\"text-align: right;\">\n",
              "      <th></th>\n",
              "      <th>userId</th>\n",
              "      <th>movieId</th>\n",
              "      <th>tag</th>\n",
              "      <th>timestamp</th>\n",
              "    </tr>\n",
              "  </thead>\n",
              "  <tbody>\n",
              "    <tr>\n",
              "      <th>0</th>\n",
              "      <td>2</td>\n",
              "      <td>60756</td>\n",
              "      <td>funny</td>\n",
              "      <td>1445714994</td>\n",
              "    </tr>\n",
              "    <tr>\n",
              "      <th>1</th>\n",
              "      <td>2</td>\n",
              "      <td>60756</td>\n",
              "      <td>Highly quotable</td>\n",
              "      <td>1445714996</td>\n",
              "    </tr>\n",
              "  </tbody>\n",
              "</table>\n",
              "</div>"
            ],
            "text/plain": [
              "   userId  movieId              tag   timestamp\n",
              "0       2    60756            funny  1445714994\n",
              "1       2    60756  Highly quotable  1445714996"
            ]
          },
          "metadata": {
            "tags": []
          },
          "execution_count": 6
        }
      ]
    },
    {
      "cell_type": "markdown",
      "metadata": {
        "id": "u1qMCzBD4lLq"
      },
      "source": [
        "## 3. EDA"
      ]
    },
    {
      "cell_type": "markdown",
      "metadata": {
        "id": "CYBEXSB23zP5"
      },
      "source": [
        "Agora vamos dar uma analisada nos dados que temos. Sigamos com a nossa Análise Exploratória dos Dados."
      ]
    },
    {
      "cell_type": "code",
      "metadata": {
        "id": "GX1bMh7p73ws"
      },
      "source": [
        "# Juntando as informações de filmes e avaliações\r\n",
        "filmes = ratings.join(movies.set_index('movieId'), on='movieId')"
      ],
      "execution_count": 7,
      "outputs": []
    },
    {
      "cell_type": "code",
      "metadata": {
        "id": "AFM2vjsRh3ru",
        "colab": {
          "base_uri": "https://localhost:8080/"
        },
        "outputId": "b68a7bd2-84f5-4643-b07e-5d6e2d2007ad"
      },
      "source": [
        "print('Tamanho da Base de Filmes: ', filmes.shape)"
      ],
      "execution_count": 8,
      "outputs": [
        {
          "output_type": "stream",
          "text": [
            "Tamanho da Base de Filmes:  (100836, 6)\n"
          ],
          "name": "stdout"
        }
      ]
    },
    {
      "cell_type": "code",
      "metadata": {
        "colab": {
          "base_uri": "https://localhost:8080/",
          "height": 294
        },
        "id": "YFrXkOSFKsyD",
        "outputId": "8f92da6e-11d1-4cc0-84d7-cef233bee48e"
      },
      "source": [
        "filmes.describe()"
      ],
      "execution_count": 9,
      "outputs": [
        {
          "output_type": "execute_result",
          "data": {
            "text/html": [
              "<div>\n",
              "<style scoped>\n",
              "    .dataframe tbody tr th:only-of-type {\n",
              "        vertical-align: middle;\n",
              "    }\n",
              "\n",
              "    .dataframe tbody tr th {\n",
              "        vertical-align: top;\n",
              "    }\n",
              "\n",
              "    .dataframe thead th {\n",
              "        text-align: right;\n",
              "    }\n",
              "</style>\n",
              "<table border=\"1\" class=\"dataframe\">\n",
              "  <thead>\n",
              "    <tr style=\"text-align: right;\">\n",
              "      <th></th>\n",
              "      <th>userId</th>\n",
              "      <th>movieId</th>\n",
              "      <th>rating</th>\n",
              "      <th>timestamp</th>\n",
              "    </tr>\n",
              "  </thead>\n",
              "  <tbody>\n",
              "    <tr>\n",
              "      <th>count</th>\n",
              "      <td>100836.000000</td>\n",
              "      <td>100836.000000</td>\n",
              "      <td>100836.000000</td>\n",
              "      <td>1.008360e+05</td>\n",
              "    </tr>\n",
              "    <tr>\n",
              "      <th>mean</th>\n",
              "      <td>326.127564</td>\n",
              "      <td>19435.295718</td>\n",
              "      <td>3.501557</td>\n",
              "      <td>1.205946e+09</td>\n",
              "    </tr>\n",
              "    <tr>\n",
              "      <th>std</th>\n",
              "      <td>182.618491</td>\n",
              "      <td>35530.987199</td>\n",
              "      <td>1.042529</td>\n",
              "      <td>2.162610e+08</td>\n",
              "    </tr>\n",
              "    <tr>\n",
              "      <th>min</th>\n",
              "      <td>1.000000</td>\n",
              "      <td>1.000000</td>\n",
              "      <td>0.500000</td>\n",
              "      <td>8.281246e+08</td>\n",
              "    </tr>\n",
              "    <tr>\n",
              "      <th>25%</th>\n",
              "      <td>177.000000</td>\n",
              "      <td>1199.000000</td>\n",
              "      <td>3.000000</td>\n",
              "      <td>1.019124e+09</td>\n",
              "    </tr>\n",
              "    <tr>\n",
              "      <th>50%</th>\n",
              "      <td>325.000000</td>\n",
              "      <td>2991.000000</td>\n",
              "      <td>3.500000</td>\n",
              "      <td>1.186087e+09</td>\n",
              "    </tr>\n",
              "    <tr>\n",
              "      <th>75%</th>\n",
              "      <td>477.000000</td>\n",
              "      <td>8122.000000</td>\n",
              "      <td>4.000000</td>\n",
              "      <td>1.435994e+09</td>\n",
              "    </tr>\n",
              "    <tr>\n",
              "      <th>max</th>\n",
              "      <td>610.000000</td>\n",
              "      <td>193609.000000</td>\n",
              "      <td>5.000000</td>\n",
              "      <td>1.537799e+09</td>\n",
              "    </tr>\n",
              "  </tbody>\n",
              "</table>\n",
              "</div>"
            ],
            "text/plain": [
              "              userId        movieId         rating     timestamp\n",
              "count  100836.000000  100836.000000  100836.000000  1.008360e+05\n",
              "mean      326.127564   19435.295718       3.501557  1.205946e+09\n",
              "std       182.618491   35530.987199       1.042529  2.162610e+08\n",
              "min         1.000000       1.000000       0.500000  8.281246e+08\n",
              "25%       177.000000    1199.000000       3.000000  1.019124e+09\n",
              "50%       325.000000    2991.000000       3.500000  1.186087e+09\n",
              "75%       477.000000    8122.000000       4.000000  1.435994e+09\n",
              "max       610.000000  193609.000000       5.000000  1.537799e+09"
            ]
          },
          "metadata": {
            "tags": []
          },
          "execution_count": 9
        }
      ]
    },
    {
      "cell_type": "code",
      "metadata": {
        "colab": {
          "base_uri": "https://localhost:8080/"
        },
        "id": "1seOfJzF6KEh",
        "outputId": "b4db66cb-aeb7-4035-9aff-2be4f0f6e6f6"
      },
      "source": [
        "# Números dos datasets\r\n",
        "print('Quantidade de Filmes Avaliados: ',\r\n",
        "filmes['movieId'].value_counts().shape[0])\r\n",
        "\r\n",
        "print('Quantidade de Usuários Avaliando: ',\r\n",
        "filmes['userId'].value_counts().shape[0])\r\n",
        "\r\n",
        "print('Quantidade de Avaliações: ',\r\n",
        "ratings.shape[0])"
      ],
      "execution_count": 10,
      "outputs": [
        {
          "output_type": "stream",
          "text": [
            "Quantidade de Filmes Avaliados:  9724\n",
            "Quantidade de Usuários Avaliando:  610\n",
            "Quantidade de Avaliações:  100836\n"
          ],
          "name": "stdout"
        }
      ]
    },
    {
      "cell_type": "code",
      "metadata": {
        "colab": {
          "base_uri": "https://localhost:8080/"
        },
        "id": "-fHqou4l6KH5",
        "outputId": "eee20f0e-404a-465e-e487-a2f217c5de90"
      },
      "source": [
        "# Quantidade de Avaliações TOP5 Filmes\r\n",
        "filmes['title'].value_counts().head()"
      ],
      "execution_count": 11,
      "outputs": [
        {
          "output_type": "execute_result",
          "data": {
            "text/plain": [
              "Forrest Gump (1994)                 329\n",
              "Shawshank Redemption, The (1994)    317\n",
              "Pulp Fiction (1994)                 307\n",
              "Silence of the Lambs, The (1991)    279\n",
              "Matrix, The (1999)                  278\n",
              "Name: title, dtype: int64"
            ]
          },
          "metadata": {
            "tags": []
          },
          "execution_count": 11
        }
      ]
    },
    {
      "cell_type": "code",
      "metadata": {
        "colab": {
          "base_uri": "https://localhost:8080/"
        },
        "id": "D9NMqUKn6KJ9",
        "outputId": "bf0d901e-6eaf-4628-abf1-686c5b1222b5"
      },
      "source": [
        "# Quantidade de Avaliações LOW5 Filmes\r\n",
        "filmes['title'].value_counts().tail()"
      ],
      "execution_count": 12,
      "outputs": [
        {
          "output_type": "execute_result",
          "data": {
            "text/plain": [
              "Radio Day (2008)              1\n",
              "Fading Gigolo (2013)          1\n",
              "Great Ziegfeld, The (1936)    1\n",
              "Stoned (2005)                 1\n",
              "Desperate Living (1977)       1\n",
              "Name: title, dtype: int64"
            ]
          },
          "metadata": {
            "tags": []
          },
          "execution_count": 12
        }
      ]
    },
    {
      "cell_type": "code",
      "metadata": {
        "colab": {
          "base_uri": "https://localhost:8080/"
        },
        "id": "bgQvHwq-6KM5",
        "outputId": "43831176-684f-4b3a-9ffe-5f347cd5b964"
      },
      "source": [
        "# Quantidade de Avaliações TOP5 Usuários\r\n",
        "filmes['userId'].value_counts().head()"
      ],
      "execution_count": 13,
      "outputs": [
        {
          "output_type": "execute_result",
          "data": {
            "text/plain": [
              "414    2698\n",
              "599    2478\n",
              "474    2108\n",
              "448    1864\n",
              "274    1346\n",
              "Name: userId, dtype: int64"
            ]
          },
          "metadata": {
            "tags": []
          },
          "execution_count": 13
        }
      ]
    },
    {
      "cell_type": "code",
      "metadata": {
        "colab": {
          "base_uri": "https://localhost:8080/"
        },
        "id": "pW03g4297qXA",
        "outputId": "92f63da4-de8e-447c-bbfc-071902553f2e"
      },
      "source": [
        "# Quantidade de Avaliações LOW5 Usuários\r\n",
        "filmes['userId'].value_counts().tail()"
      ],
      "execution_count": 14,
      "outputs": [
        {
          "output_type": "execute_result",
          "data": {
            "text/plain": [
              "406    20\n",
              "595    20\n",
              "569    20\n",
              "431    20\n",
              "442    20\n",
              "Name: userId, dtype: int64"
            ]
          },
          "metadata": {
            "tags": []
          },
          "execution_count": 14
        }
      ]
    },
    {
      "cell_type": "code",
      "metadata": {
        "colab": {
          "base_uri": "https://localhost:8080/",
          "height": 202
        },
        "id": "DWeGsfPZ9B-B",
        "outputId": "b255efe3-df57-468f-bd98-35682e41f49e"
      },
      "source": [
        "# Avaliações do usuário 414\r\n",
        "filmes.query('userId == 414').head()"
      ],
      "execution_count": 15,
      "outputs": [
        {
          "output_type": "execute_result",
          "data": {
            "text/html": [
              "<div>\n",
              "<style scoped>\n",
              "    .dataframe tbody tr th:only-of-type {\n",
              "        vertical-align: middle;\n",
              "    }\n",
              "\n",
              "    .dataframe tbody tr th {\n",
              "        vertical-align: top;\n",
              "    }\n",
              "\n",
              "    .dataframe thead th {\n",
              "        text-align: right;\n",
              "    }\n",
              "</style>\n",
              "<table border=\"1\" class=\"dataframe\">\n",
              "  <thead>\n",
              "    <tr style=\"text-align: right;\">\n",
              "      <th></th>\n",
              "      <th>userId</th>\n",
              "      <th>movieId</th>\n",
              "      <th>rating</th>\n",
              "      <th>timestamp</th>\n",
              "      <th>title</th>\n",
              "      <th>genres</th>\n",
              "    </tr>\n",
              "  </thead>\n",
              "  <tbody>\n",
              "    <tr>\n",
              "      <th>62294</th>\n",
              "      <td>414</td>\n",
              "      <td>1</td>\n",
              "      <td>4.0</td>\n",
              "      <td>961438127</td>\n",
              "      <td>Toy Story (1995)</td>\n",
              "      <td>Adventure|Animation|Children|Comedy|Fantasy</td>\n",
              "    </tr>\n",
              "    <tr>\n",
              "      <th>62295</th>\n",
              "      <td>414</td>\n",
              "      <td>2</td>\n",
              "      <td>3.0</td>\n",
              "      <td>961594981</td>\n",
              "      <td>Jumanji (1995)</td>\n",
              "      <td>Adventure|Children|Fantasy</td>\n",
              "    </tr>\n",
              "    <tr>\n",
              "      <th>62296</th>\n",
              "      <td>414</td>\n",
              "      <td>3</td>\n",
              "      <td>4.0</td>\n",
              "      <td>961439278</td>\n",
              "      <td>Grumpier Old Men (1995)</td>\n",
              "      <td>Comedy|Romance</td>\n",
              "    </tr>\n",
              "    <tr>\n",
              "      <th>62297</th>\n",
              "      <td>414</td>\n",
              "      <td>5</td>\n",
              "      <td>2.0</td>\n",
              "      <td>961437647</td>\n",
              "      <td>Father of the Bride Part II (1995)</td>\n",
              "      <td>Comedy</td>\n",
              "    </tr>\n",
              "    <tr>\n",
              "      <th>62298</th>\n",
              "      <td>414</td>\n",
              "      <td>6</td>\n",
              "      <td>3.0</td>\n",
              "      <td>961515642</td>\n",
              "      <td>Heat (1995)</td>\n",
              "      <td>Action|Crime|Thriller</td>\n",
              "    </tr>\n",
              "  </tbody>\n",
              "</table>\n",
              "</div>"
            ],
            "text/plain": [
              "       userId  ...                                       genres\n",
              "62294     414  ...  Adventure|Animation|Children|Comedy|Fantasy\n",
              "62295     414  ...                   Adventure|Children|Fantasy\n",
              "62296     414  ...                               Comedy|Romance\n",
              "62297     414  ...                                       Comedy\n",
              "62298     414  ...                        Action|Crime|Thriller\n",
              "\n",
              "[5 rows x 6 columns]"
            ]
          },
          "metadata": {
            "tags": []
          },
          "execution_count": 15
        }
      ]
    },
    {
      "cell_type": "code",
      "metadata": {
        "colab": {
          "base_uri": "https://localhost:8080/",
          "height": 49
        },
        "id": "mK4zO_HvMVfx",
        "outputId": "671798a4-8350-44a7-beb1-8cc9816973ad"
      },
      "source": [
        "# Avaliações do usuário 414\r\n",
        "filmes.query('userId == 414 and movieId == 168248')"
      ],
      "execution_count": 16,
      "outputs": [
        {
          "output_type": "execute_result",
          "data": {
            "text/html": [
              "<div>\n",
              "<style scoped>\n",
              "    .dataframe tbody tr th:only-of-type {\n",
              "        vertical-align: middle;\n",
              "    }\n",
              "\n",
              "    .dataframe tbody tr th {\n",
              "        vertical-align: top;\n",
              "    }\n",
              "\n",
              "    .dataframe thead th {\n",
              "        text-align: right;\n",
              "    }\n",
              "</style>\n",
              "<table border=\"1\" class=\"dataframe\">\n",
              "  <thead>\n",
              "    <tr style=\"text-align: right;\">\n",
              "      <th></th>\n",
              "      <th>userId</th>\n",
              "      <th>movieId</th>\n",
              "      <th>rating</th>\n",
              "      <th>timestamp</th>\n",
              "      <th>title</th>\n",
              "      <th>genres</th>\n",
              "    </tr>\n",
              "  </thead>\n",
              "  <tbody>\n",
              "  </tbody>\n",
              "</table>\n",
              "</div>"
            ],
            "text/plain": [
              "Empty DataFrame\n",
              "Columns: [userId, movieId, rating, timestamp, title, genres]\n",
              "Index: []"
            ]
          },
          "metadata": {
            "tags": []
          },
          "execution_count": 16
        }
      ]
    },
    {
      "cell_type": "markdown",
      "metadata": {
        "id": "9BUBx0BU6Kcp"
      },
      "source": [
        "## 4. Modelo"
      ]
    },
    {
      "cell_type": "code",
      "metadata": {
        "id": "MpnUK5anhV1V"
      },
      "source": [
        "# Configuração para treinamento\n",
        "reader = Reader(rating_scale=(0,5))\n",
        "# Seleção das variáveis para o modelo\n",
        "data = Dataset.load_from_df(ratings[['userId', 'movieId', 'rating']], reader)\n",
        "# Divisão dos dados de treino e teste\n",
        "trainset, testset = train_test_split(data, test_size=.2)"
      ],
      "execution_count": 17,
      "outputs": []
    },
    {
      "cell_type": "code",
      "metadata": {
        "id": "pFX1pXHaiR0d"
      },
      "source": [
        "# Configurações das medidas de similaridade\r\n",
        "sim_options = { 'name': 'pearson_baseline', 'user_based': True }"
      ],
      "execution_count": 18,
      "outputs": []
    },
    {
      "cell_type": "markdown",
      "metadata": {
        "id": "zbf_fNcFMgok"
      },
      "source": [
        "### 4.1 Treinamento do Modelo"
      ]
    },
    {
      "cell_type": "markdown",
      "metadata": {
        "id": "EAAoT8tW69On"
      },
      "source": [
        "\r\n",
        "Um algoritmo básico que leva em consideração uma classificação de linha de base."
      ]
    },
    {
      "cell_type": "code",
      "metadata": {
        "colab": {
          "base_uri": "https://localhost:8080/"
        },
        "id": "g5lRdBaYYk5j",
        "outputId": "75c7b586-ab13-4934-9697-99e819a58a05"
      },
      "source": [
        "knn = KNNBaseline(k=33, sim_options=sim_options)\r\n",
        "knn.fit(trainset)"
      ],
      "execution_count": 19,
      "outputs": [
        {
          "output_type": "stream",
          "text": [
            "Estimating biases using als...\n",
            "Computing the pearson_baseline similarity matrix...\n",
            "Done computing similarity matrix.\n"
          ],
          "name": "stdout"
        },
        {
          "output_type": "execute_result",
          "data": {
            "text/plain": [
              "<surprise.prediction_algorithms.knns.KNNBaseline at 0x7f422f188d30>"
            ]
          },
          "metadata": {
            "tags": []
          },
          "execution_count": 19
        }
      ]
    },
    {
      "cell_type": "markdown",
      "metadata": {
        "id": "utkJy66E6_dY"
      },
      "source": [
        "Um algoritmo simples, mas preciso."
      ]
    },
    {
      "cell_type": "code",
      "metadata": {
        "colab": {
          "base_uri": "https://localhost:8080/"
        },
        "id": "F-IpYbHIYlEs",
        "outputId": "3b7023d6-88b7-42b3-ff74-e8379bc6c5aa"
      },
      "source": [
        "slo = SlopeOne()\r\n",
        "slo.fit(trainset)"
      ],
      "execution_count": 20,
      "outputs": [
        {
          "output_type": "execute_result",
          "data": {
            "text/plain": [
              "<surprise.prediction_algorithms.slope_one.SlopeOne at 0x7f422f188518>"
            ]
          },
          "metadata": {
            "tags": []
          },
          "execution_count": 20
        }
      ]
    },
    {
      "cell_type": "markdown",
      "metadata": {
        "id": "p_GyNy7O7P6f"
      },
      "source": [
        "Um algoritmo baseado em co-clustering. \r\n",
        "Os clusters são atribuídos usando um método de otimização direto, muito parecido com o k-means.\r\n"
      ]
    },
    {
      "cell_type": "code",
      "metadata": {
        "colab": {
          "base_uri": "https://localhost:8080/"
        },
        "id": "uixbIybdYlTv",
        "outputId": "f5ac1f30-2366-45b4-e533-44be28b44d43"
      },
      "source": [
        "co = CoClustering(n_epochs=10, verbose=True)\r\n",
        "co.fit(trainset)"
      ],
      "execution_count": 22,
      "outputs": [
        {
          "output_type": "stream",
          "text": [
            "Processing epoch 0\n",
            "Processing epoch 1\n",
            "Processing epoch 2\n",
            "Processing epoch 3\n",
            "Processing epoch 4\n",
            "Processing epoch 5\n",
            "Processing epoch 6\n",
            "Processing epoch 7\n",
            "Processing epoch 8\n",
            "Processing epoch 9\n"
          ],
          "name": "stdout"
        },
        {
          "output_type": "execute_result",
          "data": {
            "text/plain": [
              "<surprise.prediction_algorithms.co_clustering.CoClustering at 0x7f422ee97cf8>"
            ]
          },
          "metadata": {
            "tags": []
          },
          "execution_count": 22
        }
      ]
    },
    {
      "cell_type": "markdown",
      "metadata": {
        "id": "Ty3UNiUwMlaA"
      },
      "source": [
        "### 4.2 Avaliação do Modelo"
      ]
    },
    {
      "cell_type": "markdown",
      "metadata": {
        "id": "TuLjbEhK8F_g"
      },
      "source": [
        "Para avaliar os modelos utilizamos o erro quadrático médio das previsões."
      ]
    },
    {
      "cell_type": "code",
      "metadata": {
        "colab": {
          "base_uri": "https://localhost:8080/"
        },
        "id": "cRbLaV_bl5_H",
        "outputId": "c591efc9-bd51-4172-aaad-f542d3615480"
      },
      "source": [
        "predictions_knn = knn.test(testset)\r\n",
        "accuracy.rmse(predictions_knn)"
      ],
      "execution_count": 23,
      "outputs": [
        {
          "output_type": "stream",
          "text": [
            "RMSE: 0.8773\n"
          ],
          "name": "stdout"
        },
        {
          "output_type": "execute_result",
          "data": {
            "text/plain": [
              "0.877322331436563"
            ]
          },
          "metadata": {
            "tags": []
          },
          "execution_count": 23
        }
      ]
    },
    {
      "cell_type": "code",
      "metadata": {
        "colab": {
          "base_uri": "https://localhost:8080/"
        },
        "id": "P1c5tsTLmJAJ",
        "outputId": "0c8d2ffb-15d7-418b-f62c-c264078384c3"
      },
      "source": [
        "predictions_co = co.test(testset)\r\n",
        "accuracy.rmse(predictions_co)"
      ],
      "execution_count": 25,
      "outputs": [
        {
          "output_type": "stream",
          "text": [
            "RMSE: 0.9480\n"
          ],
          "name": "stdout"
        },
        {
          "output_type": "execute_result",
          "data": {
            "text/plain": [
              "0.9480022459676123"
            ]
          },
          "metadata": {
            "tags": []
          },
          "execution_count": 25
        }
      ]
    },
    {
      "cell_type": "code",
      "metadata": {
        "colab": {
          "base_uri": "https://localhost:8080/"
        },
        "id": "EEPd12DomJFk",
        "outputId": "4d1cf7ff-2f5a-4efb-8fe3-813710c637bf"
      },
      "source": [
        "predictions_slo = slo.test(testset)\r\n",
        "accuracy.rmse(predictions_slo)"
      ],
      "execution_count": 26,
      "outputs": [
        {
          "output_type": "stream",
          "text": [
            "RMSE: 0.9029\n"
          ],
          "name": "stdout"
        },
        {
          "output_type": "execute_result",
          "data": {
            "text/plain": [
              "0.9029067260323603"
            ]
          },
          "metadata": {
            "tags": []
          },
          "execution_count": 26
        }
      ]
    },
    {
      "cell_type": "markdown",
      "metadata": {
        "id": "YRKt-1aUMpnl"
      },
      "source": [
        "### 4.3 Predição do Modelo"
      ]
    },
    {
      "cell_type": "markdown",
      "metadata": {
        "id": "915K2Dzq8NCx"
      },
      "source": [
        "Vamos ver os parâmetros que são atribuidos as predições."
      ]
    },
    {
      "cell_type": "markdown",
      "metadata": {
        "id": "CG4pzxPDn9XL"
      },
      "source": [
        "Parameters:\t\r\n",
        "* uid – The (raw) user id. See this note.\r\n",
        "* iid – The (raw) item id. See this note.\r\n",
        "* r_ui (float) – The true rating rui.\r\n",
        "* est (float) – The estimated rating r^ui.\r\n",
        "* details (dict) – Stores additional details about the prediction that might be useful for later analysis."
      ]
    },
    {
      "cell_type": "code",
      "metadata": {
        "colab": {
          "base_uri": "https://localhost:8080/"
        },
        "id": "KOMMUBkIoOfS",
        "outputId": "da2bc234-ee84-4070-d375-95ce5fd52c32"
      },
      "source": [
        "# Predição com os dados de teste\r\n",
        "predictions_co[:5]"
      ],
      "execution_count": 27,
      "outputs": [
        {
          "output_type": "execute_result",
          "data": {
            "text/plain": [
              "[Prediction(uid=560, iid=80463, r_ui=4.0, est=3.777660050341529, details={'was_impossible': False}),\n",
              " Prediction(uid=414, iid=8874, r_ui=4.0, est=3.60964942827203, details={'was_impossible': False}),\n",
              " Prediction(uid=222, iid=103984, r_ui=2.0, est=3.6810475549768475, details={'was_impossible': False}),\n",
              " Prediction(uid=489, iid=6793, r_ui=0.5, est=0.9735489301387612, details={'was_impossible': False}),\n",
              " Prediction(uid=551, iid=318, r_ui=4.0, est=4.625458658245941, details={'was_impossible': False})]"
            ]
          },
          "metadata": {
            "tags": []
          },
          "execution_count": 27
        }
      ]
    },
    {
      "cell_type": "markdown",
      "metadata": {
        "id": "bXj7bNvT8qUl"
      },
      "source": [
        "A função trainset utiliza um id interno para serem utilizados no modelo, eles podem ser obtidos através da função to_inner, e a função to_raw retorna os valores originais."
      ]
    },
    {
      "cell_type": "code",
      "metadata": {
        "colab": {
          "base_uri": "https://localhost:8080/"
        },
        "id": "fk47bl0ZXx0k",
        "outputId": "972c1f19-b7f2-4954-a5ae-de11b424b560"
      },
      "source": [
        "# uid=247, iid=364 Conversão para o id interno\r\n",
        "print('Conversão Interna')\r\n",
        "print('User:', co.trainset.to_inner_uid(247))\r\n",
        "print('Movie:', co.trainset.to_inner_iid(364))\r\n",
        "\r\n",
        "# uid=247, iid=364 Conversão para o id externo\r\n",
        "print('Conversão Externa')\r\n",
        "print('User:', co.trainset.to_raw_uid( co.trainset.to_inner_uid(247) ))\r\n",
        "print('Movie:', co.trainset.to_raw_iid( co.trainset.to_inner_iid(364) ))"
      ],
      "execution_count": 39,
      "outputs": [
        {
          "output_type": "stream",
          "text": [
            "Conversão Interna\n",
            "User: 159\n",
            "Movie: 9\n",
            "Conversão Externa\n",
            "User: 247\n",
            "Movie: 364\n"
          ],
          "name": "stdout"
        }
      ]
    },
    {
      "cell_type": "markdown",
      "metadata": {
        "id": "ERFTcuD41Bq5"
      },
      "source": [
        "#### 4.3.1. Função Análise de Recomendação"
      ]
    },
    {
      "cell_type": "markdown",
      "metadata": {
        "id": "6TBDEIHN9wqW"
      },
      "source": [
        "Passando um ID de usuário e um ID de um filme, a função vai retornar a Estimativa de Avaliação do usuário para o filme informado. Caso seja um filme já avaliado pelo usuário retorna também a avaliação real."
      ]
    },
    {
      "cell_type": "code",
      "metadata": {
        "id": "yDDsOqkG-2im"
      },
      "source": [
        "def recomenda_filme(userId,movieId):\r\n",
        "  # ID do usuário para predição\r\n",
        "  uid = userId\r\n",
        "  # ID do filme para predição\r\n",
        "  iid = movieId \r\n",
        "  nome_filme = movies.query('movieId == @movieId')['title'].values[0]\r\n",
        "  print('Filme:', nome_filme)\r\n",
        "  print('Usuário:', userId)\r\n",
        "  if filmes.query('userId == @userId and movieId == @movieId')['title'].values.size == 0:\r\n",
        "    print('Usuário não avaliou o filme!')\r\n",
        "  else:\r\n",
        "    nota_filme = ratings.query('userId == @userId and movieId == @movieId')['rating'].values[0]\r\n",
        "    print('Avaliação do usuário:', nota_filme)\r\n",
        "  # Predição baseada no melhor modelo\r\n",
        "  print('Estimativa de Avaliação[0-5]:', round(co.predict(co.trainset.to_raw_uid(uid), co.trainset.to_raw_iid(iid))[3], 2))"
      ],
      "execution_count": 29,
      "outputs": []
    },
    {
      "cell_type": "code",
      "metadata": {
        "colab": {
          "base_uri": "https://localhost:8080/"
        },
        "id": "s1LYsIcrOBRj",
        "outputId": "a206c54a-1425-4d70-95a0-27452c9c43c8"
      },
      "source": [
        "recomenda_filme(406,3)"
      ],
      "execution_count": 30,
      "outputs": [
        {
          "output_type": "stream",
          "text": [
            "Filme: Grumpier Old Men (1995)\n",
            "Usuário: 406\n",
            "Usuário não avaliou o filme!\n",
            "Estimativa de Avaliação[0-5]: 3.9\n"
          ],
          "name": "stdout"
        }
      ]
    },
    {
      "cell_type": "code",
      "metadata": {
        "colab": {
          "base_uri": "https://localhost:8080/"
        },
        "id": "eO1PbeMnArQs",
        "outputId": "3aba6320-3e7e-4c9b-b834-a9e87dc826d3"
      },
      "source": [
        "recomenda_filme(247,364) "
      ],
      "execution_count": 31,
      "outputs": [
        {
          "output_type": "stream",
          "text": [
            "Filme: Lion King, The (1994)\n",
            "Usuário: 247\n",
            "Avaliação do usuário: 5.0\n",
            "Estimativa de Avaliação[0-5]: 3.02\n"
          ],
          "name": "stdout"
        }
      ]
    },
    {
      "cell_type": "markdown",
      "metadata": {
        "id": "ziR3l4an1SJO"
      },
      "source": [
        "#### 4.3.2. Função TOP Recomendações"
      ]
    },
    {
      "cell_type": "markdown",
      "metadata": {
        "id": "OViXNSVt-IO8"
      },
      "source": [
        "Passando um ID de usuário e a quantidade de recomendações, a função informa em ordem de recomendação os filmes para o usuário informado."
      ]
    },
    {
      "cell_type": "code",
      "metadata": {
        "id": "VoOS2t0tdtEz"
      },
      "source": [
        "def top_n(userId,n):\r\n",
        "  # Selecionando apenas os filmes do treinamento\r\n",
        "  lista_filmes_treino = []\r\n",
        "  for x in trainset.all_items():\r\n",
        "    lista_filmes_treino.append(trainset.to_raw_iid(x))\r\n",
        "  # Selecionando os filmes do treinamento que o usuário não avaliou\r\n",
        "  filmes_user = ratings.query('userId == @userId')['movieId'].values\r\n",
        "  filmes_user_nao = movies.query('movieId not in @filmes_user')\r\n",
        "  filmes_user_nao = filmes_user_nao.query('movieId in @lista_filmes_treino')['movieId'].values\r\n",
        "  # Criando um ranking para o usuário para os filmes não avaliados\r\n",
        "  ranking=[]\r\n",
        "  for movieId in filmes_user_nao:\r\n",
        "    ranking.append((movieId, co.predict(co.trainset.to_inner_uid(userId), co.trainset.to_inner_iid(movieId))[3]))\r\n",
        "  # Ordenando os TOP filmes avaliados\r\n",
        "  ranking.sort(key=lambda x: x[1], reverse=True)\r\n",
        "  # Selecionando os Ids dos filmes\r\n",
        "  x,_ = zip(*ranking[:n])\r\n",
        "  # Listando os nomes dos filmes em ordem de recomendação\r\n",
        "  return movies.query('movieId in @x')['title'].copy().reset_index(drop=True)"
      ],
      "execution_count": 32,
      "outputs": []
    },
    {
      "cell_type": "code",
      "metadata": {
        "colab": {
          "base_uri": "https://localhost:8080/"
        },
        "id": "gj9ENsZ7hZHt",
        "outputId": "def4f13e-333d-4e1c-fbce-6d1aa21f6c2f"
      },
      "source": [
        "top_n(414,5)"
      ],
      "execution_count": 33,
      "outputs": [
        {
          "output_type": "execute_result",
          "data": {
            "text/plain": [
              "0      Beyond Bedlam (1993)\n",
              "1          Boys Life (1995)\n",
              "2      House Party 3 (1994)\n",
              "3              Andre (1994)\n",
              "4    Denise Calls Up (1995)\n",
              "Name: title, dtype: object"
            ]
          },
          "metadata": {
            "tags": []
          },
          "execution_count": 33
        }
      ]
    },
    {
      "cell_type": "code",
      "metadata": {
        "colab": {
          "base_uri": "https://localhost:8080/"
        },
        "id": "ANPv4CTBuiaz",
        "outputId": "b73600f5-43e3-4383-fb96-e6632de12056"
      },
      "source": [
        "top_n(406,5)"
      ],
      "execution_count": 34,
      "outputs": [
        {
          "output_type": "execute_result",
          "data": {
            "text/plain": [
              "0                Black Sheep (1996)\n",
              "1           Immortal Beloved (1994)\n",
              "2              Beyond Bedlam (1993)\n",
              "3    Stuart Saves His Family (1995)\n",
              "4              Shallow Grave (1994)\n",
              "Name: title, dtype: object"
            ]
          },
          "metadata": {
            "tags": []
          },
          "execution_count": 34
        }
      ]
    }
  ]
}